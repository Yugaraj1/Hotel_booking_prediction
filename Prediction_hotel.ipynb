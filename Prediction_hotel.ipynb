{
 "cells": [
  {
   "cell_type": "markdown",
   "id": "be6b1f77",
   "metadata": {},
   "source": [
    "### Let's Fetch Data from Excel File"
   ]
  },
  {
   "cell_type": "code",
   "execution_count": 1,
   "id": "99198865",
   "metadata": {},
   "outputs": [
    {
     "name": "stdout",
     "output_type": "stream",
     "text": [
      "First three sheets combined:\n",
      "          hotel  is_canceled  lead_time  arrival_date_year arrival_date_month  \\\n",
      "0  Resort Hotel            1         85               2018               July   \n",
      "1  Resort Hotel            1         75               2018               July   \n",
      "2  Resort Hotel            1         23               2018               July   \n",
      "3  Resort Hotel            1         60               2018               July   \n",
      "4  Resort Hotel            1         96               2018               July   \n",
      "\n",
      "   arrival_date_week_number  arrival_date_day_of_month  \\\n",
      "0                        27                          1   \n",
      "1                        27                          1   \n",
      "2                        27                          1   \n",
      "3                        27                          1   \n",
      "4                        27                          1   \n",
      "\n",
      "   stays_in_weekend_nights  stays_in_week_nights  adults  ...  deposit_type  \\\n",
      "0                        0                     3       2  ...    No Deposit   \n",
      "1                        0                     3       2  ...    No Deposit   \n",
      "2                        0                     4       2  ...    No Deposit   \n",
      "3                        2                     5       2  ...    No Deposit   \n",
      "4                        2                     8       2  ...    No Deposit   \n",
      "\n",
      "   agent company days_in_waiting_list customer_type    adr  \\\n",
      "0  240.0     NaN                    0     Transient   82.0   \n",
      "1   15.0     NaN                    0     Transient  105.5   \n",
      "2  240.0     NaN                    0     Transient  123.0   \n",
      "3  240.0     NaN                    0     Transient  107.0   \n",
      "4    NaN     NaN                    0     Transient  108.3   \n",
      "\n",
      "   required_car_parking_spaces  total_of_special_requests  reservation_status  \\\n",
      "0                            0                          1            Canceled   \n",
      "1                            0                          0            Canceled   \n",
      "2                            0                          0            Canceled   \n",
      "3                            0                          2            Canceled   \n",
      "4                            0                          2            Canceled   \n",
      "\n",
      "  reservation_status_date  \n",
      "0              2018-05-06  \n",
      "1              2018-04-22  \n",
      "2              2018-06-23  \n",
      "3              2018-05-11  \n",
      "4              2018-05-29  \n",
      "\n",
      "[5 rows x 32 columns]\n"
     ]
    }
   ],
   "source": [
    "import pandas as pd\n",
    "\n",
    "# Load the first three sheets (2018, 2019, 2020) into one DataFrame\n",
    "df_2018_2020 = pd.concat([\n",
    "    pd.read_excel(r\"C:\\Users\\61403\\Desktop\\Hotel_revenue.xlsx\", sheet_name=\"2018\", engine=\"openpyxl\"),\n",
    "    pd.read_excel(r\"C:\\Users\\61403\\Desktop\\Hotel_revenue.xlsx\", sheet_name=\"2019\", engine=\"openpyxl\"),\n",
    "    pd.read_excel(r\"C:\\Users\\61403\\Desktop\\Hotel_revenue.xlsx\", sheet_name=\"2020\", engine=\"openpyxl\")\n",
    "], ignore_index=True)\n",
    "\n",
    "print(\"First three sheets combined:\")\n",
    "print(df_2018_2020.head())\n"
   ]
  },
  {
   "cell_type": "code",
   "execution_count": 2,
   "id": "b9c91cf3",
   "metadata": {},
   "outputs": [
    {
     "data": {
      "text/html": [
       "<div>\n",
       "<style scoped>\n",
       "    .dataframe tbody tr th:only-of-type {\n",
       "        vertical-align: middle;\n",
       "    }\n",
       "\n",
       "    .dataframe tbody tr th {\n",
       "        vertical-align: top;\n",
       "    }\n",
       "\n",
       "    .dataframe thead th {\n",
       "        text-align: right;\n",
       "    }\n",
       "</style>\n",
       "<table border=\"1\" class=\"dataframe\">\n",
       "  <thead>\n",
       "    <tr style=\"text-align: right;\">\n",
       "      <th></th>\n",
       "      <th>hotel</th>\n",
       "      <th>is_canceled</th>\n",
       "      <th>lead_time</th>\n",
       "      <th>arrival_date_year</th>\n",
       "      <th>arrival_date_month</th>\n",
       "      <th>arrival_date_week_number</th>\n",
       "      <th>arrival_date_day_of_month</th>\n",
       "      <th>stays_in_weekend_nights</th>\n",
       "      <th>stays_in_week_nights</th>\n",
       "      <th>adults</th>\n",
       "      <th>...</th>\n",
       "      <th>deposit_type</th>\n",
       "      <th>agent</th>\n",
       "      <th>company</th>\n",
       "      <th>days_in_waiting_list</th>\n",
       "      <th>customer_type</th>\n",
       "      <th>adr</th>\n",
       "      <th>required_car_parking_spaces</th>\n",
       "      <th>total_of_special_requests</th>\n",
       "      <th>reservation_status</th>\n",
       "      <th>reservation_status_date</th>\n",
       "    </tr>\n",
       "  </thead>\n",
       "  <tbody>\n",
       "    <tr>\n",
       "      <th>0</th>\n",
       "      <td>Resort Hotel</td>\n",
       "      <td>1</td>\n",
       "      <td>85</td>\n",
       "      <td>2018</td>\n",
       "      <td>July</td>\n",
       "      <td>27</td>\n",
       "      <td>1</td>\n",
       "      <td>0</td>\n",
       "      <td>3</td>\n",
       "      <td>2</td>\n",
       "      <td>...</td>\n",
       "      <td>No Deposit</td>\n",
       "      <td>240.0</td>\n",
       "      <td>NaN</td>\n",
       "      <td>0</td>\n",
       "      <td>Transient</td>\n",
       "      <td>82.0</td>\n",
       "      <td>0</td>\n",
       "      <td>1</td>\n",
       "      <td>Canceled</td>\n",
       "      <td>2018-05-06</td>\n",
       "    </tr>\n",
       "    <tr>\n",
       "      <th>1</th>\n",
       "      <td>Resort Hotel</td>\n",
       "      <td>1</td>\n",
       "      <td>75</td>\n",
       "      <td>2018</td>\n",
       "      <td>July</td>\n",
       "      <td>27</td>\n",
       "      <td>1</td>\n",
       "      <td>0</td>\n",
       "      <td>3</td>\n",
       "      <td>2</td>\n",
       "      <td>...</td>\n",
       "      <td>No Deposit</td>\n",
       "      <td>15.0</td>\n",
       "      <td>NaN</td>\n",
       "      <td>0</td>\n",
       "      <td>Transient</td>\n",
       "      <td>105.5</td>\n",
       "      <td>0</td>\n",
       "      <td>0</td>\n",
       "      <td>Canceled</td>\n",
       "      <td>2018-04-22</td>\n",
       "    </tr>\n",
       "    <tr>\n",
       "      <th>2</th>\n",
       "      <td>Resort Hotel</td>\n",
       "      <td>1</td>\n",
       "      <td>23</td>\n",
       "      <td>2018</td>\n",
       "      <td>July</td>\n",
       "      <td>27</td>\n",
       "      <td>1</td>\n",
       "      <td>0</td>\n",
       "      <td>4</td>\n",
       "      <td>2</td>\n",
       "      <td>...</td>\n",
       "      <td>No Deposit</td>\n",
       "      <td>240.0</td>\n",
       "      <td>NaN</td>\n",
       "      <td>0</td>\n",
       "      <td>Transient</td>\n",
       "      <td>123.0</td>\n",
       "      <td>0</td>\n",
       "      <td>0</td>\n",
       "      <td>Canceled</td>\n",
       "      <td>2018-06-23</td>\n",
       "    </tr>\n",
       "    <tr>\n",
       "      <th>3</th>\n",
       "      <td>Resort Hotel</td>\n",
       "      <td>1</td>\n",
       "      <td>60</td>\n",
       "      <td>2018</td>\n",
       "      <td>July</td>\n",
       "      <td>27</td>\n",
       "      <td>1</td>\n",
       "      <td>2</td>\n",
       "      <td>5</td>\n",
       "      <td>2</td>\n",
       "      <td>...</td>\n",
       "      <td>No Deposit</td>\n",
       "      <td>240.0</td>\n",
       "      <td>NaN</td>\n",
       "      <td>0</td>\n",
       "      <td>Transient</td>\n",
       "      <td>107.0</td>\n",
       "      <td>0</td>\n",
       "      <td>2</td>\n",
       "      <td>Canceled</td>\n",
       "      <td>2018-05-11</td>\n",
       "    </tr>\n",
       "    <tr>\n",
       "      <th>4</th>\n",
       "      <td>Resort Hotel</td>\n",
       "      <td>1</td>\n",
       "      <td>96</td>\n",
       "      <td>2018</td>\n",
       "      <td>July</td>\n",
       "      <td>27</td>\n",
       "      <td>1</td>\n",
       "      <td>2</td>\n",
       "      <td>8</td>\n",
       "      <td>2</td>\n",
       "      <td>...</td>\n",
       "      <td>No Deposit</td>\n",
       "      <td>NaN</td>\n",
       "      <td>NaN</td>\n",
       "      <td>0</td>\n",
       "      <td>Transient</td>\n",
       "      <td>108.3</td>\n",
       "      <td>0</td>\n",
       "      <td>2</td>\n",
       "      <td>Canceled</td>\n",
       "      <td>2018-05-29</td>\n",
       "    </tr>\n",
       "    <tr>\n",
       "      <th>...</th>\n",
       "      <td>...</td>\n",
       "      <td>...</td>\n",
       "      <td>...</td>\n",
       "      <td>...</td>\n",
       "      <td>...</td>\n",
       "      <td>...</td>\n",
       "      <td>...</td>\n",
       "      <td>...</td>\n",
       "      <td>...</td>\n",
       "      <td>...</td>\n",
       "      <td>...</td>\n",
       "      <td>...</td>\n",
       "      <td>...</td>\n",
       "      <td>...</td>\n",
       "      <td>...</td>\n",
       "      <td>...</td>\n",
       "      <td>...</td>\n",
       "      <td>...</td>\n",
       "      <td>...</td>\n",
       "      <td>...</td>\n",
       "      <td>...</td>\n",
       "    </tr>\n",
       "    <tr>\n",
       "      <th>141942</th>\n",
       "      <td>City Hotel</td>\n",
       "      <td>1</td>\n",
       "      <td>1</td>\n",
       "      <td>2020</td>\n",
       "      <td>February</td>\n",
       "      <td>5</td>\n",
       "      <td>1</td>\n",
       "      <td>0</td>\n",
       "      <td>0</td>\n",
       "      <td>1</td>\n",
       "      <td>...</td>\n",
       "      <td>No Deposit</td>\n",
       "      <td>NaN</td>\n",
       "      <td>153.0</td>\n",
       "      <td>0</td>\n",
       "      <td>Transient</td>\n",
       "      <td>0.0</td>\n",
       "      <td>0</td>\n",
       "      <td>1</td>\n",
       "      <td>No-Show</td>\n",
       "      <td>2020-02-01</td>\n",
       "    </tr>\n",
       "    <tr>\n",
       "      <th>141943</th>\n",
       "      <td>City Hotel</td>\n",
       "      <td>1</td>\n",
       "      <td>31</td>\n",
       "      <td>2020</td>\n",
       "      <td>July</td>\n",
       "      <td>29</td>\n",
       "      <td>16</td>\n",
       "      <td>2</td>\n",
       "      <td>0</td>\n",
       "      <td>1</td>\n",
       "      <td>...</td>\n",
       "      <td>No Deposit</td>\n",
       "      <td>NaN</td>\n",
       "      <td>NaN</td>\n",
       "      <td>0</td>\n",
       "      <td>Transient</td>\n",
       "      <td>135.0</td>\n",
       "      <td>0</td>\n",
       "      <td>2</td>\n",
       "      <td>No-Show</td>\n",
       "      <td>2020-07-16</td>\n",
       "    </tr>\n",
       "    <tr>\n",
       "      <th>141944</th>\n",
       "      <td>City Hotel</td>\n",
       "      <td>1</td>\n",
       "      <td>25</td>\n",
       "      <td>2020</td>\n",
       "      <td>May</td>\n",
       "      <td>18</td>\n",
       "      <td>6</td>\n",
       "      <td>2</td>\n",
       "      <td>1</td>\n",
       "      <td>1</td>\n",
       "      <td>...</td>\n",
       "      <td>No Deposit</td>\n",
       "      <td>NaN</td>\n",
       "      <td>450.0</td>\n",
       "      <td>0</td>\n",
       "      <td>Transient</td>\n",
       "      <td>125.0</td>\n",
       "      <td>0</td>\n",
       "      <td>0</td>\n",
       "      <td>No-Show</td>\n",
       "      <td>2020-05-06</td>\n",
       "    </tr>\n",
       "    <tr>\n",
       "      <th>141945</th>\n",
       "      <td>City Hotel</td>\n",
       "      <td>1</td>\n",
       "      <td>6</td>\n",
       "      <td>2020</td>\n",
       "      <td>July</td>\n",
       "      <td>29</td>\n",
       "      <td>17</td>\n",
       "      <td>1</td>\n",
       "      <td>0</td>\n",
       "      <td>1</td>\n",
       "      <td>...</td>\n",
       "      <td>No Deposit</td>\n",
       "      <td>NaN</td>\n",
       "      <td>238.0</td>\n",
       "      <td>0</td>\n",
       "      <td>Transient</td>\n",
       "      <td>65.0</td>\n",
       "      <td>0</td>\n",
       "      <td>0</td>\n",
       "      <td>No-Show</td>\n",
       "      <td>2020-07-17</td>\n",
       "    </tr>\n",
       "    <tr>\n",
       "      <th>141946</th>\n",
       "      <td>City Hotel</td>\n",
       "      <td>1</td>\n",
       "      <td>0</td>\n",
       "      <td>2020</td>\n",
       "      <td>August</td>\n",
       "      <td>31</td>\n",
       "      <td>2</td>\n",
       "      <td>0</td>\n",
       "      <td>2</td>\n",
       "      <td>1</td>\n",
       "      <td>...</td>\n",
       "      <td>No Deposit</td>\n",
       "      <td>NaN</td>\n",
       "      <td>40.0</td>\n",
       "      <td>0</td>\n",
       "      <td>Transient</td>\n",
       "      <td>65.0</td>\n",
       "      <td>0</td>\n",
       "      <td>1</td>\n",
       "      <td>No-Show</td>\n",
       "      <td>2020-08-02</td>\n",
       "    </tr>\n",
       "  </tbody>\n",
       "</table>\n",
       "<p>141947 rows × 32 columns</p>\n",
       "</div>"
      ],
      "text/plain": [
       "               hotel  is_canceled  lead_time  arrival_date_year  \\\n",
       "0       Resort Hotel            1         85               2018   \n",
       "1       Resort Hotel            1         75               2018   \n",
       "2       Resort Hotel            1         23               2018   \n",
       "3       Resort Hotel            1         60               2018   \n",
       "4       Resort Hotel            1         96               2018   \n",
       "...              ...          ...        ...                ...   \n",
       "141942    City Hotel            1          1               2020   \n",
       "141943    City Hotel            1         31               2020   \n",
       "141944    City Hotel            1         25               2020   \n",
       "141945    City Hotel            1          6               2020   \n",
       "141946    City Hotel            1          0               2020   \n",
       "\n",
       "       arrival_date_month  arrival_date_week_number  \\\n",
       "0                    July                        27   \n",
       "1                    July                        27   \n",
       "2                    July                        27   \n",
       "3                    July                        27   \n",
       "4                    July                        27   \n",
       "...                   ...                       ...   \n",
       "141942           February                         5   \n",
       "141943               July                        29   \n",
       "141944                May                        18   \n",
       "141945               July                        29   \n",
       "141946             August                        31   \n",
       "\n",
       "        arrival_date_day_of_month  stays_in_weekend_nights  \\\n",
       "0                               1                        0   \n",
       "1                               1                        0   \n",
       "2                               1                        0   \n",
       "3                               1                        2   \n",
       "4                               1                        2   \n",
       "...                           ...                      ...   \n",
       "141942                          1                        0   \n",
       "141943                         16                        2   \n",
       "141944                          6                        2   \n",
       "141945                         17                        1   \n",
       "141946                          2                        0   \n",
       "\n",
       "        stays_in_week_nights  adults  ...  deposit_type  agent company  \\\n",
       "0                          3       2  ...    No Deposit  240.0     NaN   \n",
       "1                          3       2  ...    No Deposit   15.0     NaN   \n",
       "2                          4       2  ...    No Deposit  240.0     NaN   \n",
       "3                          5       2  ...    No Deposit  240.0     NaN   \n",
       "4                          8       2  ...    No Deposit    NaN     NaN   \n",
       "...                      ...     ...  ...           ...    ...     ...   \n",
       "141942                     0       1  ...    No Deposit    NaN   153.0   \n",
       "141943                     0       1  ...    No Deposit    NaN     NaN   \n",
       "141944                     1       1  ...    No Deposit    NaN   450.0   \n",
       "141945                     0       1  ...    No Deposit    NaN   238.0   \n",
       "141946                     2       1  ...    No Deposit    NaN    40.0   \n",
       "\n",
       "       days_in_waiting_list customer_type    adr  required_car_parking_spaces  \\\n",
       "0                         0     Transient   82.0                            0   \n",
       "1                         0     Transient  105.5                            0   \n",
       "2                         0     Transient  123.0                            0   \n",
       "3                         0     Transient  107.0                            0   \n",
       "4                         0     Transient  108.3                            0   \n",
       "...                     ...           ...    ...                          ...   \n",
       "141942                    0     Transient    0.0                            0   \n",
       "141943                    0     Transient  135.0                            0   \n",
       "141944                    0     Transient  125.0                            0   \n",
       "141945                    0     Transient   65.0                            0   \n",
       "141946                    0     Transient   65.0                            0   \n",
       "\n",
       "        total_of_special_requests  reservation_status reservation_status_date  \n",
       "0                               1            Canceled              2018-05-06  \n",
       "1                               0            Canceled              2018-04-22  \n",
       "2                               0            Canceled              2018-06-23  \n",
       "3                               2            Canceled              2018-05-11  \n",
       "4                               2            Canceled              2018-05-29  \n",
       "...                           ...                 ...                     ...  \n",
       "141942                          1             No-Show              2020-02-01  \n",
       "141943                          2             No-Show              2020-07-16  \n",
       "141944                          0             No-Show              2020-05-06  \n",
       "141945                          0             No-Show              2020-07-17  \n",
       "141946                          1             No-Show              2020-08-02  \n",
       "\n",
       "[141947 rows x 32 columns]"
      ]
     },
     "execution_count": 2,
     "metadata": {},
     "output_type": "execute_result"
    }
   ],
   "source": [
    "df_2018_2020"
   ]
  },
  {
   "cell_type": "code",
   "execution_count": 3,
   "id": "4eede4d3",
   "metadata": {},
   "outputs": [],
   "source": [
    "df = df_2018_2020"
   ]
  },
  {
   "cell_type": "code",
   "execution_count": 4,
   "id": "fcdd8aef",
   "metadata": {
    "scrolled": false
   },
   "outputs": [
    {
     "data": {
      "text/html": [
       "<div>\n",
       "<style scoped>\n",
       "    .dataframe tbody tr th:only-of-type {\n",
       "        vertical-align: middle;\n",
       "    }\n",
       "\n",
       "    .dataframe tbody tr th {\n",
       "        vertical-align: top;\n",
       "    }\n",
       "\n",
       "    .dataframe thead th {\n",
       "        text-align: right;\n",
       "    }\n",
       "</style>\n",
       "<table border=\"1\" class=\"dataframe\">\n",
       "  <thead>\n",
       "    <tr style=\"text-align: right;\">\n",
       "      <th></th>\n",
       "      <th>hotel</th>\n",
       "      <th>is_canceled</th>\n",
       "      <th>lead_time</th>\n",
       "      <th>arrival_date_year</th>\n",
       "      <th>arrival_date_month</th>\n",
       "      <th>arrival_date_week_number</th>\n",
       "      <th>arrival_date_day_of_month</th>\n",
       "      <th>stays_in_weekend_nights</th>\n",
       "      <th>stays_in_week_nights</th>\n",
       "      <th>adults</th>\n",
       "      <th>...</th>\n",
       "      <th>deposit_type</th>\n",
       "      <th>agent</th>\n",
       "      <th>company</th>\n",
       "      <th>days_in_waiting_list</th>\n",
       "      <th>customer_type</th>\n",
       "      <th>adr</th>\n",
       "      <th>required_car_parking_spaces</th>\n",
       "      <th>total_of_special_requests</th>\n",
       "      <th>reservation_status</th>\n",
       "      <th>reservation_status_date</th>\n",
       "    </tr>\n",
       "  </thead>\n",
       "  <tbody>\n",
       "    <tr>\n",
       "      <th>0</th>\n",
       "      <td>Resort Hotel</td>\n",
       "      <td>1</td>\n",
       "      <td>85</td>\n",
       "      <td>2018</td>\n",
       "      <td>July</td>\n",
       "      <td>27</td>\n",
       "      <td>1</td>\n",
       "      <td>0</td>\n",
       "      <td>3</td>\n",
       "      <td>2</td>\n",
       "      <td>...</td>\n",
       "      <td>No Deposit</td>\n",
       "      <td>240.0</td>\n",
       "      <td>NaN</td>\n",
       "      <td>0</td>\n",
       "      <td>Transient</td>\n",
       "      <td>82.0</td>\n",
       "      <td>0</td>\n",
       "      <td>1</td>\n",
       "      <td>Canceled</td>\n",
       "      <td>2018-05-06</td>\n",
       "    </tr>\n",
       "    <tr>\n",
       "      <th>1</th>\n",
       "      <td>Resort Hotel</td>\n",
       "      <td>1</td>\n",
       "      <td>75</td>\n",
       "      <td>2018</td>\n",
       "      <td>July</td>\n",
       "      <td>27</td>\n",
       "      <td>1</td>\n",
       "      <td>0</td>\n",
       "      <td>3</td>\n",
       "      <td>2</td>\n",
       "      <td>...</td>\n",
       "      <td>No Deposit</td>\n",
       "      <td>15.0</td>\n",
       "      <td>NaN</td>\n",
       "      <td>0</td>\n",
       "      <td>Transient</td>\n",
       "      <td>105.5</td>\n",
       "      <td>0</td>\n",
       "      <td>0</td>\n",
       "      <td>Canceled</td>\n",
       "      <td>2018-04-22</td>\n",
       "    </tr>\n",
       "    <tr>\n",
       "      <th>2</th>\n",
       "      <td>Resort Hotel</td>\n",
       "      <td>1</td>\n",
       "      <td>23</td>\n",
       "      <td>2018</td>\n",
       "      <td>July</td>\n",
       "      <td>27</td>\n",
       "      <td>1</td>\n",
       "      <td>0</td>\n",
       "      <td>4</td>\n",
       "      <td>2</td>\n",
       "      <td>...</td>\n",
       "      <td>No Deposit</td>\n",
       "      <td>240.0</td>\n",
       "      <td>NaN</td>\n",
       "      <td>0</td>\n",
       "      <td>Transient</td>\n",
       "      <td>123.0</td>\n",
       "      <td>0</td>\n",
       "      <td>0</td>\n",
       "      <td>Canceled</td>\n",
       "      <td>2018-06-23</td>\n",
       "    </tr>\n",
       "    <tr>\n",
       "      <th>3</th>\n",
       "      <td>Resort Hotel</td>\n",
       "      <td>1</td>\n",
       "      <td>60</td>\n",
       "      <td>2018</td>\n",
       "      <td>July</td>\n",
       "      <td>27</td>\n",
       "      <td>1</td>\n",
       "      <td>2</td>\n",
       "      <td>5</td>\n",
       "      <td>2</td>\n",
       "      <td>...</td>\n",
       "      <td>No Deposit</td>\n",
       "      <td>240.0</td>\n",
       "      <td>NaN</td>\n",
       "      <td>0</td>\n",
       "      <td>Transient</td>\n",
       "      <td>107.0</td>\n",
       "      <td>0</td>\n",
       "      <td>2</td>\n",
       "      <td>Canceled</td>\n",
       "      <td>2018-05-11</td>\n",
       "    </tr>\n",
       "    <tr>\n",
       "      <th>4</th>\n",
       "      <td>Resort Hotel</td>\n",
       "      <td>1</td>\n",
       "      <td>96</td>\n",
       "      <td>2018</td>\n",
       "      <td>July</td>\n",
       "      <td>27</td>\n",
       "      <td>1</td>\n",
       "      <td>2</td>\n",
       "      <td>8</td>\n",
       "      <td>2</td>\n",
       "      <td>...</td>\n",
       "      <td>No Deposit</td>\n",
       "      <td>NaN</td>\n",
       "      <td>NaN</td>\n",
       "      <td>0</td>\n",
       "      <td>Transient</td>\n",
       "      <td>108.3</td>\n",
       "      <td>0</td>\n",
       "      <td>2</td>\n",
       "      <td>Canceled</td>\n",
       "      <td>2018-05-29</td>\n",
       "    </tr>\n",
       "    <tr>\n",
       "      <th>...</th>\n",
       "      <td>...</td>\n",
       "      <td>...</td>\n",
       "      <td>...</td>\n",
       "      <td>...</td>\n",
       "      <td>...</td>\n",
       "      <td>...</td>\n",
       "      <td>...</td>\n",
       "      <td>...</td>\n",
       "      <td>...</td>\n",
       "      <td>...</td>\n",
       "      <td>...</td>\n",
       "      <td>...</td>\n",
       "      <td>...</td>\n",
       "      <td>...</td>\n",
       "      <td>...</td>\n",
       "      <td>...</td>\n",
       "      <td>...</td>\n",
       "      <td>...</td>\n",
       "      <td>...</td>\n",
       "      <td>...</td>\n",
       "      <td>...</td>\n",
       "    </tr>\n",
       "    <tr>\n",
       "      <th>141942</th>\n",
       "      <td>City Hotel</td>\n",
       "      <td>1</td>\n",
       "      <td>1</td>\n",
       "      <td>2020</td>\n",
       "      <td>February</td>\n",
       "      <td>5</td>\n",
       "      <td>1</td>\n",
       "      <td>0</td>\n",
       "      <td>0</td>\n",
       "      <td>1</td>\n",
       "      <td>...</td>\n",
       "      <td>No Deposit</td>\n",
       "      <td>NaN</td>\n",
       "      <td>153.0</td>\n",
       "      <td>0</td>\n",
       "      <td>Transient</td>\n",
       "      <td>0.0</td>\n",
       "      <td>0</td>\n",
       "      <td>1</td>\n",
       "      <td>No-Show</td>\n",
       "      <td>2020-02-01</td>\n",
       "    </tr>\n",
       "    <tr>\n",
       "      <th>141943</th>\n",
       "      <td>City Hotel</td>\n",
       "      <td>1</td>\n",
       "      <td>31</td>\n",
       "      <td>2020</td>\n",
       "      <td>July</td>\n",
       "      <td>29</td>\n",
       "      <td>16</td>\n",
       "      <td>2</td>\n",
       "      <td>0</td>\n",
       "      <td>1</td>\n",
       "      <td>...</td>\n",
       "      <td>No Deposit</td>\n",
       "      <td>NaN</td>\n",
       "      <td>NaN</td>\n",
       "      <td>0</td>\n",
       "      <td>Transient</td>\n",
       "      <td>135.0</td>\n",
       "      <td>0</td>\n",
       "      <td>2</td>\n",
       "      <td>No-Show</td>\n",
       "      <td>2020-07-16</td>\n",
       "    </tr>\n",
       "    <tr>\n",
       "      <th>141944</th>\n",
       "      <td>City Hotel</td>\n",
       "      <td>1</td>\n",
       "      <td>25</td>\n",
       "      <td>2020</td>\n",
       "      <td>May</td>\n",
       "      <td>18</td>\n",
       "      <td>6</td>\n",
       "      <td>2</td>\n",
       "      <td>1</td>\n",
       "      <td>1</td>\n",
       "      <td>...</td>\n",
       "      <td>No Deposit</td>\n",
       "      <td>NaN</td>\n",
       "      <td>450.0</td>\n",
       "      <td>0</td>\n",
       "      <td>Transient</td>\n",
       "      <td>125.0</td>\n",
       "      <td>0</td>\n",
       "      <td>0</td>\n",
       "      <td>No-Show</td>\n",
       "      <td>2020-05-06</td>\n",
       "    </tr>\n",
       "    <tr>\n",
       "      <th>141945</th>\n",
       "      <td>City Hotel</td>\n",
       "      <td>1</td>\n",
       "      <td>6</td>\n",
       "      <td>2020</td>\n",
       "      <td>July</td>\n",
       "      <td>29</td>\n",
       "      <td>17</td>\n",
       "      <td>1</td>\n",
       "      <td>0</td>\n",
       "      <td>1</td>\n",
       "      <td>...</td>\n",
       "      <td>No Deposit</td>\n",
       "      <td>NaN</td>\n",
       "      <td>238.0</td>\n",
       "      <td>0</td>\n",
       "      <td>Transient</td>\n",
       "      <td>65.0</td>\n",
       "      <td>0</td>\n",
       "      <td>0</td>\n",
       "      <td>No-Show</td>\n",
       "      <td>2020-07-17</td>\n",
       "    </tr>\n",
       "    <tr>\n",
       "      <th>141946</th>\n",
       "      <td>City Hotel</td>\n",
       "      <td>1</td>\n",
       "      <td>0</td>\n",
       "      <td>2020</td>\n",
       "      <td>August</td>\n",
       "      <td>31</td>\n",
       "      <td>2</td>\n",
       "      <td>0</td>\n",
       "      <td>2</td>\n",
       "      <td>1</td>\n",
       "      <td>...</td>\n",
       "      <td>No Deposit</td>\n",
       "      <td>NaN</td>\n",
       "      <td>40.0</td>\n",
       "      <td>0</td>\n",
       "      <td>Transient</td>\n",
       "      <td>65.0</td>\n",
       "      <td>0</td>\n",
       "      <td>1</td>\n",
       "      <td>No-Show</td>\n",
       "      <td>2020-08-02</td>\n",
       "    </tr>\n",
       "  </tbody>\n",
       "</table>\n",
       "<p>141947 rows × 32 columns</p>\n",
       "</div>"
      ],
      "text/plain": [
       "               hotel  is_canceled  lead_time  arrival_date_year  \\\n",
       "0       Resort Hotel            1         85               2018   \n",
       "1       Resort Hotel            1         75               2018   \n",
       "2       Resort Hotel            1         23               2018   \n",
       "3       Resort Hotel            1         60               2018   \n",
       "4       Resort Hotel            1         96               2018   \n",
       "...              ...          ...        ...                ...   \n",
       "141942    City Hotel            1          1               2020   \n",
       "141943    City Hotel            1         31               2020   \n",
       "141944    City Hotel            1         25               2020   \n",
       "141945    City Hotel            1          6               2020   \n",
       "141946    City Hotel            1          0               2020   \n",
       "\n",
       "       arrival_date_month  arrival_date_week_number  \\\n",
       "0                    July                        27   \n",
       "1                    July                        27   \n",
       "2                    July                        27   \n",
       "3                    July                        27   \n",
       "4                    July                        27   \n",
       "...                   ...                       ...   \n",
       "141942           February                         5   \n",
       "141943               July                        29   \n",
       "141944                May                        18   \n",
       "141945               July                        29   \n",
       "141946             August                        31   \n",
       "\n",
       "        arrival_date_day_of_month  stays_in_weekend_nights  \\\n",
       "0                               1                        0   \n",
       "1                               1                        0   \n",
       "2                               1                        0   \n",
       "3                               1                        2   \n",
       "4                               1                        2   \n",
       "...                           ...                      ...   \n",
       "141942                          1                        0   \n",
       "141943                         16                        2   \n",
       "141944                          6                        2   \n",
       "141945                         17                        1   \n",
       "141946                          2                        0   \n",
       "\n",
       "        stays_in_week_nights  adults  ...  deposit_type  agent company  \\\n",
       "0                          3       2  ...    No Deposit  240.0     NaN   \n",
       "1                          3       2  ...    No Deposit   15.0     NaN   \n",
       "2                          4       2  ...    No Deposit  240.0     NaN   \n",
       "3                          5       2  ...    No Deposit  240.0     NaN   \n",
       "4                          8       2  ...    No Deposit    NaN     NaN   \n",
       "...                      ...     ...  ...           ...    ...     ...   \n",
       "141942                     0       1  ...    No Deposit    NaN   153.0   \n",
       "141943                     0       1  ...    No Deposit    NaN     NaN   \n",
       "141944                     1       1  ...    No Deposit    NaN   450.0   \n",
       "141945                     0       1  ...    No Deposit    NaN   238.0   \n",
       "141946                     2       1  ...    No Deposit    NaN    40.0   \n",
       "\n",
       "       days_in_waiting_list customer_type    adr  required_car_parking_spaces  \\\n",
       "0                         0     Transient   82.0                            0   \n",
       "1                         0     Transient  105.5                            0   \n",
       "2                         0     Transient  123.0                            0   \n",
       "3                         0     Transient  107.0                            0   \n",
       "4                         0     Transient  108.3                            0   \n",
       "...                     ...           ...    ...                          ...   \n",
       "141942                    0     Transient    0.0                            0   \n",
       "141943                    0     Transient  135.0                            0   \n",
       "141944                    0     Transient  125.0                            0   \n",
       "141945                    0     Transient   65.0                            0   \n",
       "141946                    0     Transient   65.0                            0   \n",
       "\n",
       "        total_of_special_requests  reservation_status reservation_status_date  \n",
       "0                               1            Canceled              2018-05-06  \n",
       "1                               0            Canceled              2018-04-22  \n",
       "2                               0            Canceled              2018-06-23  \n",
       "3                               2            Canceled              2018-05-11  \n",
       "4                               2            Canceled              2018-05-29  \n",
       "...                           ...                 ...                     ...  \n",
       "141942                          1             No-Show              2020-02-01  \n",
       "141943                          2             No-Show              2020-07-16  \n",
       "141944                          0             No-Show              2020-05-06  \n",
       "141945                          0             No-Show              2020-07-17  \n",
       "141946                          1             No-Show              2020-08-02  \n",
       "\n",
       "[141947 rows x 32 columns]"
      ]
     },
     "execution_count": 4,
     "metadata": {},
     "output_type": "execute_result"
    }
   ],
   "source": [
    "df"
   ]
  },
  {
   "cell_type": "code",
   "execution_count": 5,
   "id": "b443d007",
   "metadata": {},
   "outputs": [
    {
     "name": "stdout",
     "output_type": "stream",
     "text": [
      "hotel                                  0\n",
      "is_canceled                            0\n",
      "lead_time                              0\n",
      "arrival_date_year                      0\n",
      "arrival_date_month                     0\n",
      "arrival_date_week_number               0\n",
      "arrival_date_day_of_month              0\n",
      "stays_in_weekend_nights                0\n",
      "stays_in_week_nights                   0\n",
      "adults                                 0\n",
      "children                               8\n",
      "babies                                 0\n",
      "meal                                   0\n",
      "country                              625\n",
      "market_segment                         0\n",
      "distribution_channel                   0\n",
      "is_repeated_guest                      0\n",
      "previous_cancellations                 0\n",
      "previous_bookings_not_canceled         0\n",
      "reserved_room_type                     0\n",
      "assigned_room_type                     0\n",
      "booking_changes                        0\n",
      "deposit_type                           0\n",
      "agent                              19555\n",
      "company                           133822\n",
      "days_in_waiting_list                   0\n",
      "customer_type                          0\n",
      "adr                                    0\n",
      "required_car_parking_spaces            0\n",
      "total_of_special_requests              0\n",
      "reservation_status                     0\n",
      "reservation_status_date                0\n",
      "dtype: int64\n"
     ]
    }
   ],
   "source": [
    "print(df.isnull().sum())"
   ]
  },
  {
   "cell_type": "code",
   "execution_count": 6,
   "id": "f912eea1",
   "metadata": {},
   "outputs": [
    {
     "data": {
      "text/html": [
       "<div>\n",
       "<style scoped>\n",
       "    .dataframe tbody tr th:only-of-type {\n",
       "        vertical-align: middle;\n",
       "    }\n",
       "\n",
       "    .dataframe tbody tr th {\n",
       "        vertical-align: top;\n",
       "    }\n",
       "\n",
       "    .dataframe thead th {\n",
       "        text-align: right;\n",
       "    }\n",
       "</style>\n",
       "<table border=\"1\" class=\"dataframe\">\n",
       "  <thead>\n",
       "    <tr style=\"text-align: right;\">\n",
       "      <th></th>\n",
       "      <th>count</th>\n",
       "      <th>mean</th>\n",
       "      <th>min</th>\n",
       "      <th>25%</th>\n",
       "      <th>50%</th>\n",
       "      <th>75%</th>\n",
       "      <th>max</th>\n",
       "      <th>std</th>\n",
       "    </tr>\n",
       "  </thead>\n",
       "  <tbody>\n",
       "    <tr>\n",
       "      <th>is_canceled</th>\n",
       "      <td>141947.0</td>\n",
       "      <td>0.372245</td>\n",
       "      <td>0.0</td>\n",
       "      <td>0.0</td>\n",
       "      <td>0.0</td>\n",
       "      <td>1.0</td>\n",
       "      <td>1.0</td>\n",
       "      <td>0.483405</td>\n",
       "    </tr>\n",
       "    <tr>\n",
       "      <th>lead_time</th>\n",
       "      <td>141947.0</td>\n",
       "      <td>102.821102</td>\n",
       "      <td>0.0</td>\n",
       "      <td>17.0</td>\n",
       "      <td>68.0</td>\n",
       "      <td>158.0</td>\n",
       "      <td>737.0</td>\n",
       "      <td>106.478569</td>\n",
       "    </tr>\n",
       "    <tr>\n",
       "      <th>arrival_date_year</th>\n",
       "      <td>141947.0</td>\n",
       "      <td>2019.131676</td>\n",
       "      <td>2018.0</td>\n",
       "      <td>2019.0</td>\n",
       "      <td>2019.0</td>\n",
       "      <td>2020.0</td>\n",
       "      <td>2020.0</td>\n",
       "      <td>0.651352</td>\n",
       "    </tr>\n",
       "    <tr>\n",
       "      <th>arrival_date_week_number</th>\n",
       "      <td>141947.0</td>\n",
       "      <td>29.061058</td>\n",
       "      <td>1.0</td>\n",
       "      <td>18.0</td>\n",
       "      <td>30.0</td>\n",
       "      <td>40.0</td>\n",
       "      <td>53.0</td>\n",
       "      <td>13.604758</td>\n",
       "    </tr>\n",
       "    <tr>\n",
       "      <th>arrival_date_day_of_month</th>\n",
       "      <td>141947.0</td>\n",
       "      <td>15.74897</td>\n",
       "      <td>1.0</td>\n",
       "      <td>8.0</td>\n",
       "      <td>16.0</td>\n",
       "      <td>23.0</td>\n",
       "      <td>31.0</td>\n",
       "      <td>8.737314</td>\n",
       "    </tr>\n",
       "    <tr>\n",
       "      <th>stays_in_weekend_nights</th>\n",
       "      <td>141947.0</td>\n",
       "      <td>0.927557</td>\n",
       "      <td>0.0</td>\n",
       "      <td>0.0</td>\n",
       "      <td>1.0</td>\n",
       "      <td>2.0</td>\n",
       "      <td>19.0</td>\n",
       "      <td>1.000817</td>\n",
       "    </tr>\n",
       "    <tr>\n",
       "      <th>stays_in_week_nights</th>\n",
       "      <td>141947.0</td>\n",
       "      <td>2.495509</td>\n",
       "      <td>0.0</td>\n",
       "      <td>1.0</td>\n",
       "      <td>2.0</td>\n",
       "      <td>3.0</td>\n",
       "      <td>50.0</td>\n",
       "      <td>1.909784</td>\n",
       "    </tr>\n",
       "    <tr>\n",
       "      <th>adults</th>\n",
       "      <td>141947.0</td>\n",
       "      <td>1.852551</td>\n",
       "      <td>0.0</td>\n",
       "      <td>2.0</td>\n",
       "      <td>2.0</td>\n",
       "      <td>2.0</td>\n",
       "      <td>55.0</td>\n",
       "      <td>0.628553</td>\n",
       "    </tr>\n",
       "    <tr>\n",
       "      <th>children</th>\n",
       "      <td>141939.0</td>\n",
       "      <td>0.097401</td>\n",
       "      <td>0.0</td>\n",
       "      <td>0.0</td>\n",
       "      <td>0.0</td>\n",
       "      <td>0.0</td>\n",
       "      <td>10.0</td>\n",
       "      <td>0.388549</td>\n",
       "    </tr>\n",
       "    <tr>\n",
       "      <th>babies</th>\n",
       "      <td>141947.0</td>\n",
       "      <td>0.008285</td>\n",
       "      <td>0.0</td>\n",
       "      <td>0.0</td>\n",
       "      <td>0.0</td>\n",
       "      <td>0.0</td>\n",
       "      <td>10.0</td>\n",
       "      <td>0.10052</td>\n",
       "    </tr>\n",
       "    <tr>\n",
       "      <th>is_repeated_guest</th>\n",
       "      <td>141947.0</td>\n",
       "      <td>0.031364</td>\n",
       "      <td>0.0</td>\n",
       "      <td>0.0</td>\n",
       "      <td>0.0</td>\n",
       "      <td>0.0</td>\n",
       "      <td>1.0</td>\n",
       "      <td>0.1743</td>\n",
       "    </tr>\n",
       "    <tr>\n",
       "      <th>previous_cancellations</th>\n",
       "      <td>141947.0</td>\n",
       "      <td>0.125413</td>\n",
       "      <td>0.0</td>\n",
       "      <td>0.0</td>\n",
       "      <td>0.0</td>\n",
       "      <td>0.0</td>\n",
       "      <td>26.0</td>\n",
       "      <td>1.059631</td>\n",
       "    </tr>\n",
       "    <tr>\n",
       "      <th>previous_bookings_not_canceled</th>\n",
       "      <td>141947.0</td>\n",
       "      <td>0.120327</td>\n",
       "      <td>0.0</td>\n",
       "      <td>0.0</td>\n",
       "      <td>0.0</td>\n",
       "      <td>0.0</td>\n",
       "      <td>72.0</td>\n",
       "      <td>1.381798</td>\n",
       "    </tr>\n",
       "    <tr>\n",
       "      <th>booking_changes</th>\n",
       "      <td>141947.0</td>\n",
       "      <td>0.213939</td>\n",
       "      <td>0.0</td>\n",
       "      <td>0.0</td>\n",
       "      <td>0.0</td>\n",
       "      <td>0.0</td>\n",
       "      <td>21.0</td>\n",
       "      <td>0.636479</td>\n",
       "    </tr>\n",
       "    <tr>\n",
       "      <th>agent</th>\n",
       "      <td>122392.0</td>\n",
       "      <td>85.685854</td>\n",
       "      <td>1.0</td>\n",
       "      <td>9.0</td>\n",
       "      <td>14.0</td>\n",
       "      <td>229.0</td>\n",
       "      <td>535.0</td>\n",
       "      <td>109.628598</td>\n",
       "    </tr>\n",
       "    <tr>\n",
       "      <th>company</th>\n",
       "      <td>8125.0</td>\n",
       "      <td>183.236062</td>\n",
       "      <td>6.0</td>\n",
       "      <td>51.0</td>\n",
       "      <td>174.0</td>\n",
       "      <td>269.0</td>\n",
       "      <td>543.0</td>\n",
       "      <td>128.92195</td>\n",
       "    </tr>\n",
       "    <tr>\n",
       "      <th>days_in_waiting_list</th>\n",
       "      <td>141947.0</td>\n",
       "      <td>2.305565</td>\n",
       "      <td>0.0</td>\n",
       "      <td>0.0</td>\n",
       "      <td>0.0</td>\n",
       "      <td>0.0</td>\n",
       "      <td>391.0</td>\n",
       "      <td>16.938253</td>\n",
       "    </tr>\n",
       "    <tr>\n",
       "      <th>adr</th>\n",
       "      <td>141947.0</td>\n",
       "      <td>99.416916</td>\n",
       "      <td>-6.38</td>\n",
       "      <td>65.75</td>\n",
       "      <td>90.95</td>\n",
       "      <td>123.0</td>\n",
       "      <td>5400.0</td>\n",
       "      <td>49.675549</td>\n",
       "    </tr>\n",
       "    <tr>\n",
       "      <th>required_car_parking_spaces</th>\n",
       "      <td>141947.0</td>\n",
       "      <td>0.062129</td>\n",
       "      <td>0.0</td>\n",
       "      <td>0.0</td>\n",
       "      <td>0.0</td>\n",
       "      <td>0.0</td>\n",
       "      <td>8.0</td>\n",
       "      <td>0.244205</td>\n",
       "    </tr>\n",
       "    <tr>\n",
       "      <th>total_of_special_requests</th>\n",
       "      <td>141947.0</td>\n",
       "      <td>0.549677</td>\n",
       "      <td>0.0</td>\n",
       "      <td>0.0</td>\n",
       "      <td>0.0</td>\n",
       "      <td>1.0</td>\n",
       "      <td>5.0</td>\n",
       "      <td>0.786541</td>\n",
       "    </tr>\n",
       "    <tr>\n",
       "      <th>reservation_status_date</th>\n",
       "      <td>141947</td>\n",
       "      <td>2019-07-31 01:44:15.991320576</td>\n",
       "      <td>2014-10-17 00:00:00</td>\n",
       "      <td>2019-02-25 00:00:00</td>\n",
       "      <td>2019-08-22 00:00:00</td>\n",
       "      <td>2020-01-06 00:00:00</td>\n",
       "      <td>2020-09-14 00:00:00</td>\n",
       "      <td>NaN</td>\n",
       "    </tr>\n",
       "  </tbody>\n",
       "</table>\n",
       "</div>"
      ],
      "text/plain": [
       "                                   count                           mean  \\\n",
       "is_canceled                     141947.0                       0.372245   \n",
       "lead_time                       141947.0                     102.821102   \n",
       "arrival_date_year               141947.0                    2019.131676   \n",
       "arrival_date_week_number        141947.0                      29.061058   \n",
       "arrival_date_day_of_month       141947.0                       15.74897   \n",
       "stays_in_weekend_nights         141947.0                       0.927557   \n",
       "stays_in_week_nights            141947.0                       2.495509   \n",
       "adults                          141947.0                       1.852551   \n",
       "children                        141939.0                       0.097401   \n",
       "babies                          141947.0                       0.008285   \n",
       "is_repeated_guest               141947.0                       0.031364   \n",
       "previous_cancellations          141947.0                       0.125413   \n",
       "previous_bookings_not_canceled  141947.0                       0.120327   \n",
       "booking_changes                 141947.0                       0.213939   \n",
       "agent                           122392.0                      85.685854   \n",
       "company                           8125.0                     183.236062   \n",
       "days_in_waiting_list            141947.0                       2.305565   \n",
       "adr                             141947.0                      99.416916   \n",
       "required_car_parking_spaces     141947.0                       0.062129   \n",
       "total_of_special_requests       141947.0                       0.549677   \n",
       "reservation_status_date           141947  2019-07-31 01:44:15.991320576   \n",
       "\n",
       "                                                min                  25%  \\\n",
       "is_canceled                                     0.0                  0.0   \n",
       "lead_time                                       0.0                 17.0   \n",
       "arrival_date_year                            2018.0               2019.0   \n",
       "arrival_date_week_number                        1.0                 18.0   \n",
       "arrival_date_day_of_month                       1.0                  8.0   \n",
       "stays_in_weekend_nights                         0.0                  0.0   \n",
       "stays_in_week_nights                            0.0                  1.0   \n",
       "adults                                          0.0                  2.0   \n",
       "children                                        0.0                  0.0   \n",
       "babies                                          0.0                  0.0   \n",
       "is_repeated_guest                               0.0                  0.0   \n",
       "previous_cancellations                          0.0                  0.0   \n",
       "previous_bookings_not_canceled                  0.0                  0.0   \n",
       "booking_changes                                 0.0                  0.0   \n",
       "agent                                           1.0                  9.0   \n",
       "company                                         6.0                 51.0   \n",
       "days_in_waiting_list                            0.0                  0.0   \n",
       "adr                                           -6.38                65.75   \n",
       "required_car_parking_spaces                     0.0                  0.0   \n",
       "total_of_special_requests                       0.0                  0.0   \n",
       "reservation_status_date         2014-10-17 00:00:00  2019-02-25 00:00:00   \n",
       "\n",
       "                                                50%                  75%  \\\n",
       "is_canceled                                     0.0                  1.0   \n",
       "lead_time                                      68.0                158.0   \n",
       "arrival_date_year                            2019.0               2020.0   \n",
       "arrival_date_week_number                       30.0                 40.0   \n",
       "arrival_date_day_of_month                      16.0                 23.0   \n",
       "stays_in_weekend_nights                         1.0                  2.0   \n",
       "stays_in_week_nights                            2.0                  3.0   \n",
       "adults                                          2.0                  2.0   \n",
       "children                                        0.0                  0.0   \n",
       "babies                                          0.0                  0.0   \n",
       "is_repeated_guest                               0.0                  0.0   \n",
       "previous_cancellations                          0.0                  0.0   \n",
       "previous_bookings_not_canceled                  0.0                  0.0   \n",
       "booking_changes                                 0.0                  0.0   \n",
       "agent                                          14.0                229.0   \n",
       "company                                       174.0                269.0   \n",
       "days_in_waiting_list                            0.0                  0.0   \n",
       "adr                                           90.95                123.0   \n",
       "required_car_parking_spaces                     0.0                  0.0   \n",
       "total_of_special_requests                       0.0                  1.0   \n",
       "reservation_status_date         2019-08-22 00:00:00  2020-01-06 00:00:00   \n",
       "\n",
       "                                                max         std  \n",
       "is_canceled                                     1.0    0.483405  \n",
       "lead_time                                     737.0  106.478569  \n",
       "arrival_date_year                            2020.0    0.651352  \n",
       "arrival_date_week_number                       53.0   13.604758  \n",
       "arrival_date_day_of_month                      31.0    8.737314  \n",
       "stays_in_weekend_nights                        19.0    1.000817  \n",
       "stays_in_week_nights                           50.0    1.909784  \n",
       "adults                                         55.0    0.628553  \n",
       "children                                       10.0    0.388549  \n",
       "babies                                         10.0     0.10052  \n",
       "is_repeated_guest                               1.0      0.1743  \n",
       "previous_cancellations                         26.0    1.059631  \n",
       "previous_bookings_not_canceled                 72.0    1.381798  \n",
       "booking_changes                                21.0    0.636479  \n",
       "agent                                         535.0  109.628598  \n",
       "company                                       543.0   128.92195  \n",
       "days_in_waiting_list                          391.0   16.938253  \n",
       "adr                                          5400.0   49.675549  \n",
       "required_car_parking_spaces                     8.0    0.244205  \n",
       "total_of_special_requests                       5.0    0.786541  \n",
       "reservation_status_date         2020-09-14 00:00:00         NaN  "
      ]
     },
     "execution_count": 6,
     "metadata": {},
     "output_type": "execute_result"
    }
   ],
   "source": [
    "df.describe().T"
   ]
  },
  {
   "cell_type": "markdown",
   "id": "c6960ec2",
   "metadata": {},
   "source": [
    "### Identified Outliers  \n",
    "\n",
    "- The `adr` (average daily rate) has a negative value, which is not logically valid.  \n",
    "- Both `children` and `babies` have values of 10, which seems unrealistic and may indicate data entry errors.  \n"
   ]
  },
  {
   "cell_type": "code",
   "execution_count": 7,
   "id": "c8637a6c",
   "metadata": {},
   "outputs": [
    {
     "data": {
      "text/plain": [
       "32"
      ]
     },
     "execution_count": 7,
     "metadata": {},
     "output_type": "execute_result"
    }
   ],
   "source": [
    "len(df.columns)"
   ]
  },
  {
   "cell_type": "markdown",
   "id": "036ddcfb",
   "metadata": {},
   "source": [
    "### Handling Missing Values  \n",
    "\n",
    "- The `children` column has only 8 missing values, so we will replace them with the mean, which is 0.  \n",
    "- The `country` column has 625 missing values. Since Portugal is the most frequently occurring country in the dataset, we will replace the missing values with \"Portugal.\"\n",
    "- The `company` column has around 90% missing values, so we will drop the column.  \n",
    "- The `agent` column contains missing values, which we will replace with `-1` to flag them.  \n",
    "\n",
    "\n"
   ]
  },
  {
   "cell_type": "code",
   "execution_count": 8,
   "id": "fe826ae9",
   "metadata": {},
   "outputs": [],
   "source": [
    "df.loc[:, 'children'] = df['children'].fillna(0)\n"
   ]
  },
  {
   "cell_type": "code",
   "execution_count": 9,
   "id": "eda28ec9",
   "metadata": {},
   "outputs": [],
   "source": [
    "df.loc[:, 'country'] = df['country'].fillna('PRT')\n"
   ]
  },
  {
   "cell_type": "code",
   "execution_count": 10,
   "id": "218f52bf",
   "metadata": {},
   "outputs": [],
   "source": [
    "df = df.drop(columns=['company'])"
   ]
  },
  {
   "cell_type": "code",
   "execution_count": 11,
   "id": "83dc9efe",
   "metadata": {},
   "outputs": [],
   "source": [
    "df.loc[:, 'agent'] = df['agent'].fillna(-1)\n"
   ]
  },
  {
   "cell_type": "markdown",
   "id": "8c1c984d",
   "metadata": {},
   "source": [
    "# Handling Outliers"
   ]
  },
  {
   "cell_type": "markdown",
   "id": "8d32a509",
   "metadata": {},
   "source": [
    "## Lead Time"
   ]
  },
  {
   "cell_type": "code",
   "execution_count": 12,
   "id": "9385b098",
   "metadata": {},
   "outputs": [],
   "source": [
    "import numpy as np\n",
    "import pandas as pd\n",
    "import seaborn as sns\n",
    "import matplotlib.pyplot as plt\n",
    "from scipy.stats import boxcox, skew\n",
    "from scipy.stats.mstats import winsorize"
   ]
  },
  {
   "cell_type": "code",
   "execution_count": 13,
   "id": "3906c5fc",
   "metadata": {
    "scrolled": false
   },
   "outputs": [
    {
     "data": {
      "text/plain": [
       "<AxesSubplot:xlabel='lead_time'>"
      ]
     },
     "execution_count": 13,
     "metadata": {},
     "output_type": "execute_result"
    },
    {
     "data": {
      "image/png": "[encoded data removed]",
      "text/plain": [
       "<Figure size 432x288 with 1 Axes>"
      ]
     },
     "metadata": {
      "needs_background": "light"
     },
     "output_type": "display_data"
    }
   ],
   "source": [
    "sns.boxplot(x=df['lead_time'])"
   ]
  },
  {
   "cell_type": "code",
   "execution_count": 14,
   "id": "43dccaaa",
   "metadata": {},
   "outputs": [
    {
     "data": {
      "image/png": "[encoded data removed]",
      "text/plain": [
       "<Figure size 432x288 with 1 Axes>"
      ]
     },
     "metadata": {
      "needs_background": "light"
     },
     "output_type": "display_data"
    }
   ],
   "source": [
    "# Create the histogram\n",
    "n, bins, patches = plt.hist(df['lead_time'], bins=10, edgecolor='black')\n",
    "\n",
    "plt.title('Histogram for Lead Time')\n",
    "plt.xlabel('Lead Time')\n",
    "plt.ylabel('Frequency')\n",
    "\n",
    "for i in range(len(n)):\n",
    "    plt.text(bins[i], n[i], str(int(n[i])), va='bottom', ha='center')\n",
    "\n",
    "plt.show()"
   ]
  },
  {
   "cell_type": "code",
   "execution_count": 15,
   "id": "a943af54",
   "metadata": {},
   "outputs": [],
   "source": [
    "# Log Transformation\n",
    "df['lead_time_log'] = np.log(df['lead_time'] + 1)\n",
    "\n",
    "# Square Root Transformation\n",
    "df['lead_time_sqrt'] = np.sqrt(df['lead_time'])\n",
    "\n",
    "# Box-Cox Transformation\n",
    "df['lead_time_boxcox'], _ = boxcox(df['lead_time'] + 1)  # Add 1 to handle zeros\n",
    "\n",
    "# Capping Outliers\n",
    "df['lead_time_capped'] = df['lead_time'].clip(upper=300)\n",
    "\n",
    "# Binning\n",
    "df['lead_time_binned'] = pd.cut(df['lead_time'], bins=10, labels=False)\n",
    "\n",
    "# Winsorization\n",
    "df['lead_time_winsorized'] = winsorize(df['lead_time'], limits=[0.05, 0.05])"
   ]
  },
  {
   "cell_type": "code",
   "execution_count": 16,
   "id": "b85293b1",
   "metadata": {},
   "outputs": [
    {
     "data": {
      "image/png": "[encoded data removed]",
      "text/plain": [
       "<Figure size 432x288 with 1 Axes>"
      ]
     },
     "metadata": {
      "needs_background": "light"
     },
     "output_type": "display_data"
    },
    {
     "data": {
      "image/png": "[encoded data removed]",
      "text/plain": [
       "<Figure size 432x288 with 1 Axes>"
      ]
     },
     "metadata": {
      "needs_background": "light"
     },
     "output_type": "display_data"
    },
    {
     "data": {
      "image/png": "[encoded data removed]",
      "text/plain": [
       "<Figure size 432x288 with 1 Axes>"
      ]
     },
     "metadata": {
      "needs_background": "light"
     },
     "output_type": "display_data"
    },
    {
     "data": {
      "image/png": "[encoded data removed]",
      "text/plain": [
       "<Figure size 432x288 with 1 Axes>"
      ]
     },
     "metadata": {
      "needs_background": "light"
     },
     "output_type": "display_data"
    },
    {
     "data": {
      "image/png": "[encoded data removed]",
      "text/plain": [
       "<Figure size 432x288 with 1 Axes>"
      ]
     },
     "metadata": {
      "needs_background": "light"
     },
     "output_type": "display_data"
    }
   ],
   "source": [
    "# List of columns to plot\n",
    "columns = [\n",
    "    'lead_time_log', \n",
    "    'lead_time_sqrt', \n",
    "    'lead_time_boxcox', \n",
    "    'lead_time_capped', \n",
    "    'lead_time_winsorized'\n",
    "]\n",
    "\n",
    "for col in columns:\n",
    "    n, bins, patches = plt.hist(df[col], bins=10, edgecolor='black')\n",
    "    \n",
    "    plt.title(f'Histogram for {col}')\n",
    "    plt.xlabel(col)\n",
    "    plt.ylabel('Frequency')\n",
    "    \n",
    "    for i in range(len(n)):\n",
    "        plt.text(bins[i], n[i], str(int(n[i])), va='bottom', ha='center')\n",
    "    \n",
    "    plt.show()"
   ]
  },
  {
   "cell_type": "markdown",
   "id": "94c47a9e",
   "metadata": {},
   "source": [
    "### Handling Skewness in Lead Time  \n",
    "\n",
    "After analyzing the distribution of the `lead_time` column using a histogram, we observed a highly skewed distribution with a long right tail. To address this, we applied various transformations, including logarithmic transformation, binning, clipping, square-root transformation, Box-Cox transformation, and winsorization.  \n",
    "\n",
    "After visualizing the results of each transformation, we found that the **Box-Cox transformation** produced the most normalized distribution, resembling a bell curve. Therefore, we selected this transformation and updated the original DataFrame accordingly.  \n"
   ]
  },
  {
   "cell_type": "code",
   "execution_count": 17,
   "id": "fac53d52",
   "metadata": {},
   "outputs": [],
   "source": [
    "df['lead_time'] = df['lead_time_boxcox']"
   ]
  },
  {
   "cell_type": "markdown",
   "id": "b6454019",
   "metadata": {},
   "source": [
    "## Average Daily Rate"
   ]
  },
  {
   "cell_type": "code",
   "execution_count": 18,
   "id": "b5671be7",
   "metadata": {
    "scrolled": true
   },
   "outputs": [
    {
     "data": {
      "text/plain": [
       "count    141947.000000\n",
       "mean         99.416916\n",
       "std          49.675549\n",
       "min          -6.380000\n",
       "25%          65.750000\n",
       "50%          90.950000\n",
       "75%         123.000000\n",
       "max        5400.000000\n",
       "Name: adr, dtype: float64"
      ]
     },
     "execution_count": 18,
     "metadata": {},
     "output_type": "execute_result"
    }
   ],
   "source": [
    "df['adr'].describe()"
   ]
  },
  {
   "cell_type": "code",
   "execution_count": 19,
   "id": "c97f32cd",
   "metadata": {},
   "outputs": [
    {
     "data": {
      "text/plain": [
       "<AxesSubplot:xlabel='adr'>"
      ]
     },
     "execution_count": 19,
     "metadata": {},
     "output_type": "execute_result"
    },
    {
     "data": {
      "image/png": "[encoded data removed]",
      "text/plain": [
       "<Figure size 432x288 with 1 Axes>"
      ]
     },
     "metadata": {
      "needs_background": "light"
     },
     "output_type": "display_data"
    }
   ],
   "source": [
    "sns.boxplot(x=df['adr'])"
   ]
  },
  {
   "cell_type": "code",
   "execution_count": 20,
   "id": "ead4cc81",
   "metadata": {},
   "outputs": [
    {
     "data": {
      "image/png": "[encoded data removed]",
      "text/plain": [
       "<Figure size 432x288 with 1 Axes>"
      ]
     },
     "metadata": {
      "needs_background": "light"
     },
     "output_type": "display_data"
    }
   ],
   "source": [
    "bin_edges = range(80, 500, 20)\n",
    "plt.hist(df['adr'], bins=bin_edges, edgecolor='black')\n",
    "plt.title('Histogram for ADR')\n",
    "plt.xlabel('ADR (Average Daily Rate)')\n",
    "plt.ylabel('Frequency')\n",
    "plt.show()\n"
   ]
  },
  {
   "cell_type": "code",
   "execution_count": 21,
   "id": "e773eeb9",
   "metadata": {},
   "outputs": [],
   "source": [
    "# Replacing negative values in 'adr' column with the median of 'adr'\n",
    "df['adr'] = df['adr'].apply(lambda x: df['adr'].median() if x < 0 else x)\n"
   ]
  },
  {
   "cell_type": "markdown",
   "id": "b69fb61f",
   "metadata": {},
   "source": [
    "### Handling '0' Values in Average Daily Rate and Market Segments  \n",
    "\n",
    "We began by checking the count of '0' values in the `average_daily_rate` and `market_segments` columns. A value of '0' is valid for complementary bookings; however, for other segments, we will replace '0' with the median of non-complementary bookings.\n",
    "\n",
    "Additionally, we will create a new column, `is_complementary`, to flag whether a booking is complementary with a binary value:  \n",
    "- `0` for non-complementary bookings  \n",
    "- `1` for complementary bookings  \n"
   ]
  },
  {
   "cell_type": "code",
   "execution_count": 22,
   "id": "b5361da4",
   "metadata": {
    "scrolled": false
   },
   "outputs": [
    {
     "name": "stdout",
     "output_type": "stream",
     "text": [
      "Number of zero ADR values: 2555\n"
     ]
    }
   ],
   "source": [
    "zero_adr_count = df[df['adr'] == 0].shape[0]\n",
    "print(f\"Number of zero ADR values: {zero_adr_count}\")"
   ]
  },
  {
   "cell_type": "code",
   "execution_count": 23,
   "id": "a1b10d47",
   "metadata": {},
   "outputs": [
    {
     "name": "stdout",
     "output_type": "stream",
     "text": [
      "market_segment\n",
      "Complementary    840\n",
      "Offline TA/TO    476\n",
      "Online TA        454\n",
      "Groups           377\n",
      "Direct           300\n",
      "Corporate        102\n",
      "Aviation           6\n",
      "Name: count, dtype: int64\n"
     ]
    }
   ],
   "source": [
    "zero_adr_bookings = df[df['adr'] == 0]\n",
    "print(zero_adr_bookings['market_segment'].value_counts())"
   ]
  },
  {
   "cell_type": "code",
   "execution_count": 24,
   "id": "3d7d1f7a",
   "metadata": {},
   "outputs": [],
   "source": [
    "df['is_complementary'] = df['market_segment'] == 'Complementary'\n",
    "\n",
    "median_of_non_complementary = df[df['market_segment'] != 'Complementary']['adr'].median()\n",
    "\n",
    "df.loc[(df['market_segment'] != 'Complementary') & (df['adr'] == 0), 'adr'] = median_of_non_complementary"
   ]
  },
  {
   "cell_type": "markdown",
   "id": "ab79c43d",
   "metadata": {},
   "source": [
    "### Handling Outliers and Transformations  \n",
    "\n",
    "- **Clipping**: I will clip the data using the 1st and 99th percentiles to remove outliers.\n",
    "- **Visualization**: After clipping, I will visualize the data to confirm the removal of outliers.\n",
    "- **Transformation**: Finally, I will apply transformations to the normalized data to ensure it is properly scaled and ready for analysis.\n"
   ]
  },
  {
   "cell_type": "code",
   "execution_count": 25,
   "id": "33af1474",
   "metadata": {},
   "outputs": [],
   "source": [
    "# Calculate the 1st and 99th percentiles\n",
    "lower_threshold = df['adr'].quantile(0.01)\n",
    "upper_threshold = df['adr'].quantile(0.99)\n",
    "\n",
    "# Cap/Floor the outliers\n",
    "df['adr'] = df['adr'].clip(lower=lower_threshold, upper=upper_threshold)"
   ]
  },
  {
   "cell_type": "code",
   "execution_count": 26,
   "id": "aef215f6",
   "metadata": {},
   "outputs": [
    {
     "name": "stdout",
     "output_type": "stream",
     "text": [
      "Skewness: 0.9886520120041343\n"
     ]
    }
   ],
   "source": [
    "from scipy.stats import skew\n",
    "skewness = skew(df['adr'])\n",
    "print(f\"Skewness: {skewness}\")"
   ]
  },
  {
   "cell_type": "code",
   "execution_count": 27,
   "id": "256d5636",
   "metadata": {},
   "outputs": [],
   "source": [
    "#applying transformation logic\n",
    "\n",
    "# Log Transformation\n",
    "df['adr_log'] = np.log(df['adr'] + 1)\n",
    "\n",
    "# Square Root Transformation\n",
    "df['adr_sqrt'] = np.sqrt(df['adr'])\n",
    "\n",
    "# Box-Cox Transformation\n",
    "df['adr_boxcox'], _ = boxcox(df['adr'] + 1) \n"
   ]
  },
  {
   "cell_type": "code",
   "execution_count": 28,
   "id": "d32a2d2d",
   "metadata": {},
   "outputs": [
    {
     "data": {
      "image/png": "[encoded data removed]",
      "text/plain": [
       "<Figure size 432x288 with 1 Axes>"
      ]
     },
     "metadata": {
      "needs_background": "light"
     },
     "output_type": "display_data"
    },
    {
     "data": {
      "image/png": "[encoded data removed]",
      "text/plain": [
       "<Figure size 432x288 with 1 Axes>"
      ]
     },
     "metadata": {
      "needs_background": "light"
     },
     "output_type": "display_data"
    },
    {
     "data": {
      "image/png": "[encoded data removed]",
      "text/plain": [
       "<Figure size 432x288 with 1 Axes>"
      ]
     },
     "metadata": {
      "needs_background": "light"
     },
     "output_type": "display_data"
    }
   ],
   "source": [
    "columns = [\n",
    "    'adr_log', \n",
    "    'adr_sqrt', \n",
    "    'adr_boxcox'\n",
    "]\n",
    "\n",
    "for col in columns:\n",
    "    n, bins, patches = plt.hist(df[col], bins=10, edgecolor='black')\n",
    "    \n",
    "    plt.title(f'Histogram for {col}')\n",
    "    plt.xlabel(col)\n",
    "    plt.ylabel('Frequency')\n",
    "    \n",
    "    for i in range(len(n)):\n",
    "        plt.text(bins[i], n[i], str(int(n[i])), va='bottom', ha='center')\n",
    "    \n",
    "    plt.show()"
   ]
  },
  {
   "cell_type": "code",
   "execution_count": 29,
   "id": "aae54ae1",
   "metadata": {},
   "outputs": [],
   "source": [
    "df['adr'] = df['adr_sqrt']"
   ]
  },
  {
   "cell_type": "markdown",
   "id": "5f61a129",
   "metadata": {},
   "source": [
    "### Arrival Date Year"
   ]
  },
  {
   "cell_type": "code",
   "execution_count": 30,
   "id": "aea9e9e0",
   "metadata": {},
   "outputs": [
    {
     "data": {
      "text/plain": [
       "<BarContainer object of 3 artists>"
      ]
     },
     "execution_count": 30,
     "metadata": {},
     "output_type": "execute_result"
    },
    {
     "data": {
      "image/png": "[encoded data removed]",
      "text/plain": [
       "<Figure size 432x288 with 1 Axes>"
      ]
     },
     "metadata": {
      "needs_background": "light"
     },
     "output_type": "display_data"
    }
   ],
   "source": [
    "year_counts = df['arrival_date_year'].value_counts().sort_index()\n",
    "\n",
    "plt.bar(year_counts.index, year_counts.values, color='blue')"
   ]
  },
  {
   "cell_type": "code",
   "execution_count": 31,
   "id": "ad420542",
   "metadata": {},
   "outputs": [
    {
     "data": {
      "text/plain": [
       "count    141947.000000\n",
       "mean       2019.131676\n",
       "std           0.651352\n",
       "min        2018.000000\n",
       "25%        2019.000000\n",
       "50%        2019.000000\n",
       "75%        2020.000000\n",
       "max        2020.000000\n",
       "Name: arrival_date_year, dtype: float64"
      ]
     },
     "execution_count": 31,
     "metadata": {},
     "output_type": "execute_result"
    }
   ],
   "source": [
    "df['arrival_date_year'].describe(include = object ).T\n"
   ]
  },
  {
   "cell_type": "markdown",
   "id": "73d68338",
   "metadata": {},
   "source": [
    "### Creating New Features  \n",
    "\n",
    "- I created the `total_stay_duration` column, which is the sum of `stays_in_weekend_nights` and `stays_in_week_nights`.  \n",
    "- I also created the `weekend_stay_ratio` column, which is calculated by dividing `stays_in_weekend_nights` by the `total_stay_duration` (with 1 added to avoid division by zero).  \n",
    "\n",
    "These new features utilize the `stays_in_weekend_nights` and `stays_in_week_nights` columns for further analysis.\n"
   ]
  },
  {
   "cell_type": "code",
   "execution_count": 32,
   "id": "8f549bae",
   "metadata": {},
   "outputs": [],
   "source": [
    "df['total_stay_duration'] = df['stays_in_weekend_nights'] + df['stays_in_week_nights']"
   ]
  },
  {
   "cell_type": "code",
   "execution_count": 33,
   "id": "525e77f3",
   "metadata": {},
   "outputs": [],
   "source": [
    "df['weekend_stay_ratio'] = df['stays_in_weekend_nights'] / (df['total_stay_duration'] + 1)  # Add 1 to avoid division by zero"
   ]
  },
  {
   "cell_type": "markdown",
   "id": "f4aed338",
   "metadata": {},
   "source": [
    "### Adults"
   ]
  },
  {
   "cell_type": "code",
   "execution_count": 34,
   "id": "1f70779c",
   "metadata": {},
   "outputs": [
    {
     "data": {
      "text/plain": [
       "count    141947.000000\n",
       "mean          1.852551\n",
       "std           0.628553\n",
       "min           0.000000\n",
       "25%           2.000000\n",
       "50%           2.000000\n",
       "75%           2.000000\n",
       "max          55.000000\n",
       "Name: adults, dtype: float64"
      ]
     },
     "execution_count": 34,
     "metadata": {},
     "output_type": "execute_result"
    }
   ],
   "source": [
    "df['adults'].describe()"
   ]
  },
  {
   "cell_type": "code",
   "execution_count": 35,
   "id": "fcf5bb2c",
   "metadata": {},
   "outputs": [
    {
     "name": "stdout",
     "output_type": "stream",
     "text": [
      "428\n"
     ]
    }
   ],
   "source": [
    "zero_adult = df[df['adults'] == 0].value_counts()\n",
    "print(zero_adult.shape[0])"
   ]
  },
  {
   "cell_type": "code",
   "execution_count": 36,
   "id": "bd104175",
   "metadata": {},
   "outputs": [],
   "source": [
    "df['adults'] = df['adults'].clip(upper=df['adults'].quantile(0.99))\n"
   ]
  },
  {
   "cell_type": "markdown",
   "id": "821e75ea",
   "metadata": {},
   "source": [
    "### Handling the `adults` Column  \n",
    "\n",
    "- There are 428 rows where the `adults` column has a value of 0. These could represent bookings for children, so we will only remove the rows where `adults`, `children`, and `babies` are all 0.\n",
    "- There is an outlier with 55 adults, so we will cap this value by the 99th percentile to handle the extreme value and prevent it from skewing the data.\n",
    "- Additionally, we are creating a new feature column, `total_people`, which will sum the values of `adults`, `children`, and `babies` to represent the total number of people in the booking.\n"
   ]
  },
  {
   "cell_type": "code",
   "execution_count": 37,
   "id": "c8dc5a44",
   "metadata": {
    "scrolled": true
   },
   "outputs": [
    {
     "name": "stdout",
     "output_type": "stream",
     "text": [
      "        adults  children  babies\n",
      "2838         0       0.0       0\n",
      "9366         0       0.0       0\n",
      "9482         0       0.0       0\n",
      "9991         0       0.0       0\n",
      "10253        0       0.0       0\n",
      "...        ...       ...     ...\n",
      "137239       0       0.0       0\n",
      "137301       0       0.0       0\n",
      "138461       0       0.0       0\n",
      "138744       0       0.0       0\n",
      "139297       0       0.0       0\n",
      "\n",
      "[210 rows x 3 columns]\n"
     ]
    }
   ],
   "source": [
    "zero_adult_children_babies = df[(df['children'] == 0) & (df['adults'] == 0) & (df['babies'] == 0)][['adults', 'children', 'babies']]\n",
    "print(zero_adult_children_babies)\n",
    "\n"
   ]
  },
  {
   "cell_type": "code",
   "execution_count": 38,
   "id": "6079ca82",
   "metadata": {},
   "outputs": [],
   "source": [
    "# Creating the 'total_people'\n",
    "df.loc[:,'total_people'] = df['adults'] + df['children'] + df['babies']\n"
   ]
  },
  {
   "cell_type": "code",
   "execution_count": 39,
   "id": "beabdfc5",
   "metadata": {},
   "outputs": [],
   "source": [
    "# Removing rows where adults, children, and babies are all 0, modifying the original df\n",
    "df = df[~((df['children'] == 0) & (df['adults'] == 0) & (df['babies'] == 0))]\n"
   ]
  },
  {
   "cell_type": "markdown",
   "id": "d817794b",
   "metadata": {},
   "source": [
    "## Previous Cancellations , Booking Changes , Days In Waiting List\n",
    "\n",
    "### Handling Outliers and Applying Box-Cox Transformation  \n",
    "\n",
    "- We applied clipping at the 99th percentile to handle outliers for the `previous_cancellations`, `booking_changes`, and `days_in_waiting_list` columns.  \n",
    "- After clipping the `days_in_waiting_list` column, we noticed that the maximum value was 77 days. While this is an outlier compared to the normal values of 2-3 days, bookings can sometimes be made 77 days ahead in business scenarios. Thus, we decided to keep it.\n",
    "- The `days_in_waiting_list` column has a skewness of 6.32, indicating it is highly skewed. To address this, we applied the Box-Cox transformation to normalize the data.  \n",
    "\n",
    "\n"
   ]
  },
  {
   "cell_type": "code",
   "execution_count": 40,
   "id": "88d1139b",
   "metadata": {},
   "outputs": [
    {
     "data": {
      "text/plain": [
       "count    141737.000000\n",
       "mean          0.125549\n",
       "std           1.060374\n",
       "min           0.000000\n",
       "25%           0.000000\n",
       "50%           0.000000\n",
       "75%           0.000000\n",
       "max          26.000000\n",
       "Name: previous_cancellations, dtype: float64"
      ]
     },
     "execution_count": 40,
     "metadata": {},
     "output_type": "execute_result"
    }
   ],
   "source": [
    "df['previous_cancellations'].describe()"
   ]
  },
  {
   "cell_type": "code",
   "execution_count": 41,
   "id": "9bdac805",
   "metadata": {},
   "outputs": [],
   "source": [
    "df.loc[:, 'previous_cancellations'] = df['previous_cancellations'].clip(upper=df['previous_cancellations'].quantile(0.99))\n"
   ]
  },
  {
   "cell_type": "code",
   "execution_count": 42,
   "id": "96d85ef8",
   "metadata": {},
   "outputs": [
    {
     "data": {
      "text/plain": [
       "count    141737.000000\n",
       "mean          0.211631\n",
       "std           0.621481\n",
       "min           0.000000\n",
       "25%           0.000000\n",
       "50%           0.000000\n",
       "75%           0.000000\n",
       "max          18.000000\n",
       "Name: booking_changes, dtype: float64"
      ]
     },
     "execution_count": 42,
     "metadata": {},
     "output_type": "execute_result"
    }
   ],
   "source": [
    "df['booking_changes'].describe()"
   ]
  },
  {
   "cell_type": "code",
   "execution_count": 43,
   "id": "aee227ae",
   "metadata": {},
   "outputs": [],
   "source": [
    "df.loc[:, 'booking_changes'] = df['booking_changes'].clip(upper=df['booking_changes'].quantile(0.99))\n"
   ]
  },
  {
   "cell_type": "code",
   "execution_count": 44,
   "id": "6242753f",
   "metadata": {},
   "outputs": [
    {
     "data": {
      "text/plain": [
       "count    141737.000000\n",
       "mean          2.304367\n",
       "std          16.936064\n",
       "min           0.000000\n",
       "25%           0.000000\n",
       "50%           0.000000\n",
       "75%           0.000000\n",
       "max         391.000000\n",
       "Name: days_in_waiting_list, dtype: float64"
      ]
     },
     "execution_count": 44,
     "metadata": {},
     "output_type": "execute_result"
    }
   ],
   "source": [
    "df['days_in_waiting_list'].describe()"
   ]
  },
  {
   "cell_type": "code",
   "execution_count": 45,
   "id": "2160e51e",
   "metadata": {},
   "outputs": [],
   "source": [
    "df.loc[:, 'days_in_waiting_list'] = df['days_in_waiting_list'].clip(upper=df['days_in_waiting_list'].quantile(0.99))\n"
   ]
  },
  {
   "cell_type": "code",
   "execution_count": 46,
   "id": "3c332b44",
   "metadata": {},
   "outputs": [
    {
     "data": {
      "image/png": "[encoded data removed]",
      "text/plain": [
       "<Figure size 432x288 with 1 Axes>"
      ]
     },
     "metadata": {
      "needs_background": "light"
     },
     "output_type": "display_data"
    }
   ],
   "source": [
    "bin_edges = range(0, int(df['days_in_waiting_list'].max()) + 10, 10)\n",
    "\n",
    "plt.hist(df['days_in_waiting_list'], bins=bin_edges, edgecolor='black')\n",
    "plt.title('Histogram for Days_in_waiting_list')\n",
    "plt.xlabel('Days_in_waiting_list')\n",
    "plt.ylabel('Frequency')\n",
    "plt.show()\n"
   ]
  },
  {
   "cell_type": "code",
   "execution_count": 47,
   "id": "7529a113",
   "metadata": {},
   "outputs": [
    {
     "name": "stdout",
     "output_type": "stream",
     "text": [
      "count    141737.000000\n",
      "mean          1.685594\n",
      "std          10.132866\n",
      "min           0.000000\n",
      "25%           0.000000\n",
      "50%           0.000000\n",
      "75%           0.000000\n",
      "max          77.000000\n",
      "Name: days_in_waiting_list, dtype: float64\n"
     ]
    }
   ],
   "source": [
    "# Clip values above the 99th percentile using .loc\n",
    "df.loc[:, 'days_in_waiting_list'] = df['days_in_waiting_list'].clip(upper=df['days_in_waiting_list'].quantile(0.99))\n",
    "\n",
    "# Check the statistics again\n",
    "print(df['days_in_waiting_list'].describe())\n"
   ]
  },
  {
   "cell_type": "code",
   "execution_count": 48,
   "id": "2454c543",
   "metadata": {},
   "outputs": [
    {
     "name": "stdout",
     "output_type": "stream",
     "text": [
      "Skewness after clipping: 6.320501953557712\n"
     ]
    }
   ],
   "source": [
    "skewness = df['days_in_waiting_list'].skew()\n",
    "print(f\"Skewness after clipping: {skewness}\")\n"
   ]
  },
  {
   "cell_type": "code",
   "execution_count": 49,
   "id": "ad2f6382",
   "metadata": {},
   "outputs": [
    {
     "name": "stdout",
     "output_type": "stream",
     "text": [
      "Skewness after Box-Cox transformation: 5.381050274978603\n"
     ]
    }
   ],
   "source": [
    "# Ensure that all values are positive (adding 1 to handle any zeros)\n",
    "df['days_in_waiting_list_positive'] = df['days_in_waiting_list'] + 1\n",
    "\n",
    "# Apply Box-Cox transformation\n",
    "df['boxcox_days_in_waiting_list'], lam = boxcox(df['days_in_waiting_list_positive'])\n",
    "\n",
    "# Check skewness after Box-Cox transformation\n",
    "new_skewness = df['boxcox_days_in_waiting_list'].skew()\n",
    "print(f\"Skewness after Box-Cox transformation: {new_skewness}\")\n"
   ]
  },
  {
   "cell_type": "code",
   "execution_count": 50,
   "id": "f04291fc",
   "metadata": {},
   "outputs": [
    {
     "data": {
      "text/plain": [
       "count    141737.000000\n",
       "mean          0.003798\n",
       "std           0.021121\n",
       "min           0.000000\n",
       "25%           0.000000\n",
       "50%           0.000000\n",
       "75%           0.000000\n",
       "max           0.121251\n",
       "Name: boxcox_days_in_waiting_list, dtype: float64"
      ]
     },
     "execution_count": 50,
     "metadata": {},
     "output_type": "execute_result"
    }
   ],
   "source": [
    "df['boxcox_days_in_waiting_list'].describe()"
   ]
  },
  {
   "cell_type": "code",
   "execution_count": 51,
   "id": "68d505e5",
   "metadata": {
    "scrolled": false
   },
   "outputs": [
    {
     "name": "stderr",
     "output_type": "stream",
     "text": [
      "C:\\Users\\61403\\AppData\\Local\\Temp\\ipykernel_25960\\165804012.py:1: FutureWarning: Setting an item of incompatible dtype is deprecated and will raise in a future error of pandas. Value '[0. 0. 0. ... 0. 0. 0.]' has dtype incompatible with int64, please explicitly cast to a compatible dtype first.\n",
      "  df.loc[:, 'days_in_waiting_list'] = df['boxcox_days_in_waiting_list']\n"
     ]
    }
   ],
   "source": [
    "df.loc[:, 'days_in_waiting_list'] = df['boxcox_days_in_waiting_list']"
   ]
  },
  {
   "cell_type": "markdown",
   "id": "5f94d73b",
   "metadata": {},
   "source": [
    "### Required Car Parking Spaces"
   ]
  },
  {
   "cell_type": "code",
   "execution_count": 52,
   "id": "68b5963d",
   "metadata": {},
   "outputs": [
    {
     "data": {
      "text/plain": [
       "count    141737.000000\n",
       "mean          0.062171\n",
       "std           0.244285\n",
       "min           0.000000\n",
       "25%           0.000000\n",
       "50%           0.000000\n",
       "75%           0.000000\n",
       "max           8.000000\n",
       "Name: required_car_parking_spaces, dtype: float64"
      ]
     },
     "execution_count": 52,
     "metadata": {},
     "output_type": "execute_result"
    }
   ],
   "source": [
    "df['required_car_parking_spaces'].describe().T"
   ]
  },
  {
   "cell_type": "markdown",
   "id": "eadaa91a",
   "metadata": {},
   "source": [
    "# Categorical Columns"
   ]
  },
  {
   "cell_type": "code",
   "execution_count": 53,
   "id": "ce9b5c95",
   "metadata": {},
   "outputs": [
    {
     "data": {
      "image/png": "[encoded data removed]",
      "text/plain": [
       "<Figure size 1080x1440 with 11 Axes>"
      ]
     },
     "metadata": {
      "needs_background": "light"
     },
     "output_type": "display_data"
    }
   ],
   "source": [
    "categorical_columns = [\n",
    "    'hotel', 'arrival_date_month', 'meal', 'country', 'market_segment',\n",
    "    'distribution_channel', 'reserved_room_type', 'assigned_room_type',\n",
    "    'deposit_type', 'customer_type', 'reservation_status'\n",
    "]\n",
    "\n",
    "plt.figure(figsize=(15, 20))\n",
    "\n",
    "for i, col in enumerate(categorical_columns, 1):\n",
    "    plt.subplot(4, 3, i)\n",
    "    sns.countplot(data=df, y=col, order=df[col].value_counts().index, palette=\"viridis\")\n",
    "    plt.title(f'Distribution of {col}')\n",
    "    plt.xlabel('Count')\n",
    "    plt.ylabel(col)\n",
    "\n",
    "plt.tight_layout()\n",
    "plt.show()\n"
   ]
  },
  {
   "cell_type": "code",
   "execution_count": 54,
   "id": "a04d12f2",
   "metadata": {},
   "outputs": [
    {
     "data": {
      "image/png": "[encoded data removed]",
      "text/plain": [
       "<Figure size 432x288 with 1 Axes>"
      ]
     },
     "metadata": {
      "needs_background": "light"
     },
     "output_type": "display_data"
    }
   ],
   "source": [
    "sns.countplot(data=df, x='hotel')\n",
    "plt.title('Distribution of Hotel Types')\n",
    "plt.show()"
   ]
  },
  {
   "cell_type": "code",
   "execution_count": 55,
   "id": "d3455447",
   "metadata": {},
   "outputs": [
    {
     "name": "stdout",
     "output_type": "stream",
     "text": [
      "\n",
      "Distribution of hotel:\n",
      "\n",
      "hotel\n",
      "City Hotel      65.552396\n",
      "Resort Hotel    34.447604\n",
      "Name: proportion, dtype: float64\n",
      "--------------------------------------------------\n",
      "\n",
      "Distribution of arrival_date_month:\n",
      "\n",
      "arrival_date_month\n",
      "August       12.523194\n",
      "October      11.364711\n",
      "September    11.018294\n",
      "July         10.884243\n",
      "May           8.311168\n",
      "April         7.815884\n",
      "June          7.710760\n",
      "December      6.902926\n",
      "March         6.902926\n",
      "November      6.436569\n",
      "February      5.894721\n",
      "January       4.234604\n",
      "Name: proportion, dtype: float64\n",
      "--------------------------------------------------\n",
      "\n",
      "Distribution of meal:\n",
      "\n",
      "meal\n",
      "BB           77.460367\n",
      "HB           12.978263\n",
      "SC            7.726987\n",
      "Undefined     0.967990\n",
      "FB            0.866393\n",
      "Name: proportion, dtype: float64\n",
      "--------------------------------------------------\n",
      "\n",
      "Distribution of country:\n",
      "\n",
      "country\n",
      "PRT    44.359624\n",
      "GBR     9.509161\n",
      "FRA     8.305524\n",
      "ESP     7.414437\n",
      "DEU     5.510911\n",
      "         ...    \n",
      "BDI     0.000706\n",
      "VGB     0.000706\n",
      "PLW     0.000706\n",
      "BFA     0.000706\n",
      "AIA     0.000706\n",
      "Name: proportion, Length: 177, dtype: float64\n",
      "--------------------------------------------------\n",
      "\n",
      "Distribution of market_segment:\n",
      "\n",
      "market_segment\n",
      "Online TA        44.282721\n",
      "Offline TA/TO    21.402316\n",
      "Groups           18.405215\n",
      "Direct           10.544177\n",
      "Corporate         4.564087\n",
      "Complementary     0.632862\n",
      "Aviation          0.165800\n",
      "Undefined         0.002822\n",
      "Name: proportion, dtype: float64\n",
      "--------------------------------------------------\n",
      "\n",
      "Distribution of distribution_channel:\n",
      "\n",
      "distribution_channel\n",
      "TA/TO        81.774695\n",
      "Direct       12.341873\n",
      "Corporate     5.739503\n",
      "GDS           0.136873\n",
      "Undefined     0.007055\n",
      "Name: proportion, dtype: float64\n",
      "--------------------------------------------------\n",
      "\n",
      "Distribution of reserved_room_type:\n",
      "\n",
      "reserved_room_type\n",
      "A    73.363342\n",
      "D    15.117436\n",
      "E     5.300662\n",
      "F     2.309206\n",
      "G     1.671405\n",
      "B     0.961640\n",
      "C     0.780318\n",
      "H     0.487523\n",
      "L     0.008466\n",
      "Name: proportion, dtype: float64\n",
      "--------------------------------------------------\n",
      "\n",
      "Distribution of assigned_room_type:\n",
      "\n",
      "assigned_room_type\n",
      "A    62.669592\n",
      "D    20.751109\n",
      "E     6.470435\n",
      "F     3.102225\n",
      "G     2.082025\n",
      "C     2.013589\n",
      "B     1.883771\n",
      "H     0.597586\n",
      "I     0.284329\n",
      "K     0.143929\n",
      "L     0.001411\n",
      "Name: proportion, dtype: float64\n",
      "--------------------------------------------------\n",
      "\n",
      "Distribution of deposit_type:\n",
      "\n",
      "deposit_type\n",
      "No Deposit    86.911674\n",
      "Non Refund    12.971207\n",
      "Refundable     0.117118\n",
      "Name: proportion, dtype: float64\n",
      "--------------------------------------------------\n",
      "\n",
      "Distribution of customer_type:\n",
      "\n",
      "customer_type\n",
      "Transient          71.486627\n",
      "Transient-Party    23.216944\n",
      "Contract            4.754581\n",
      "Group               0.541849\n",
      "Name: proportion, dtype: float64\n",
      "--------------------------------------------------\n",
      "\n",
      "Distribution of reservation_status:\n",
      "\n",
      "reservation_status\n",
      "Check-Out    62.802938\n",
      "Canceled     36.160636\n",
      "No-Show       1.036427\n",
      "Name: proportion, dtype: float64\n",
      "--------------------------------------------------\n"
     ]
    }
   ],
   "source": [
    "categorical_columns = [\n",
    "    'hotel', 'arrival_date_month', 'meal', 'country', 'market_segment',\n",
    "    'distribution_channel', 'reserved_room_type', 'assigned_room_type',\n",
    "    'deposit_type', 'customer_type', 'reservation_status'\n",
    "]\n",
    "\n",
    "for col in categorical_columns:\n",
    "    print(f\"\\nDistribution of {col}:\\n\")\n",
    "    print(df[col].value_counts(normalize=True) * 100)  # Convert to percentage\n",
    "    print(\"-\" * 50)\n"
   ]
  },
  {
   "cell_type": "code",
   "execution_count": 56,
   "id": "50280dee",
   "metadata": {},
   "outputs": [
    {
     "data": {
      "image/png": "[encoded data removed]",
      "text/plain": [
       "<Figure size 432x288 with 1 Axes>"
      ]
     },
     "metadata": {
      "needs_background": "light"
     },
     "output_type": "display_data"
    }
   ],
   "source": [
    "sns.countplot(data=df, x='hotel', hue='reservation_status')\n",
    "plt.title('Cancellation Rates by Hotel Type')\n",
    "plt.show()"
   ]
  },
  {
   "cell_type": "code",
   "execution_count": 57,
   "id": "07babb75",
   "metadata": {},
   "outputs": [
    {
     "data": {
      "image/png": "[encoded data removed]",
      "text/plain": [
       "<Figure size 432x288 with 1 Axes>"
      ]
     },
     "metadata": {
      "needs_background": "light"
     },
     "output_type": "display_data"
    }
   ],
   "source": [
    "pd.crosstab(df['arrival_date_month'], df['reservation_status']).plot(kind='bar', stacked=True)\n",
    "plt.title('Cancellation Rates by Arrival Month')\n",
    "plt.show()"
   ]
  },
  {
   "cell_type": "markdown",
   "id": "32d8522d",
   "metadata": {},
   "source": [
    "### Encoding of Categorical Features\n",
    "\n",
    "- **Hotel**: This is a **nominal** categorical variable, where:\n",
    "  - `0` represents **City Hotel**\n",
    "  - `1` represents **Resort Hotel**\n",
    "  \n",
    "  Since this is a nominal variable, we applied **label encoding** to convert it into numerical format.\n",
    "\n",
    "- **Arrival_Date_Month**: This is an **ordinal** categorical variable, where:\n",
    "  - `1` represents **January**\n",
    "  - `2` represents **February**\n",
    "  - `3` represents **March**, and so on.\n",
    "\n",
    "  As this variable has a natural ordering (months of the year), we applied **label encoding** based on this ordinal relationship."
   ]
  },
  {
   "cell_type": "code",
   "execution_count": 58,
   "id": "1d1c0aab",
   "metadata": {},
   "outputs": [],
   "source": [
    "df.loc[:,'hotel'] = df['hotel'].map({\"City Hotel\" : 0 , \"Resort Hotel\" : 1})\n",
    "df.loc[:,'arrival_date_month'] = df['arrival_date_month'].map({\"January\" : 1 , \"February\" : 2 , \"March\" : 3 , \"April\" : 4 , \"May\" : 5 , \"June\" : 6 , \"July\" : 7 , \"August\" : 8 , \"September\" : 9 , \"October\" : 10 ,  \"November\" : 11 , \"December\" : 12 })"
   ]
  },
  {
   "cell_type": "markdown",
   "id": "1ab2cd57",
   "metadata": {},
   "source": [
    "### Encoding of Nominal Features\n",
    "\n",
    "- **Meal**: This is a **nominal** categorical variable. We performed **numerical encoding** as we are using binary classification algorithms, which will treat these numbers as nominal rather than ordinal. The encoding is as follows:\n",
    "  - `BB` = `0`\n",
    "  - `HB` = `1`\n",
    "  - `SC` = `2`\n",
    "  - `Others` = `3` (We combined the undefined and `FB` categories into `Others` as they have negligible values.)\n",
    "\n",
    "- **Country**: We applied the same strategy for the **Country** column. We merged small countries with negligible values into an `Others` category, and for the rest of the countries, we assigned numerical labels (`0`, `1`, `2`, etc.).\n",
    "\n",
    "- **Market Segment**: Similarly, we merged smaller market segments with negligible values into an `Others` category, and the remaining segments were assigned numerical labels (`0`, `1`, `2`, etc.).\n",
    "\n",
    "This encoding approach allows these nominal variables to be processed appropriately by classification algorithms.\n"
   ]
  },
  {
   "cell_type": "code",
   "execution_count": 59,
   "id": "a7f9d840",
   "metadata": {},
   "outputs": [
    {
     "data": {
      "text/plain": [
       "meal\n",
       "BB           109790\n",
       "HB            18395\n",
       "SC            10952\n",
       "Undefined      1372\n",
       "FB             1228\n",
       "Name: count, dtype: int64"
      ]
     },
     "execution_count": 59,
     "metadata": {},
     "output_type": "execute_result"
    }
   ],
   "source": [
    "df['meal'].value_counts()"
   ]
  },
  {
   "cell_type": "code",
   "execution_count": 60,
   "id": "9ac022a7",
   "metadata": {},
   "outputs": [],
   "source": [
    "df.loc[:,'meal'] = df['meal'].apply(lambda x:'others' if x in ['Undefined','FB'] else x)\n",
    "df.loc[:,'meal'] = df['meal'].map({'BB' : 0 , \"HB\" : 1 , \"SC\" : 2 , \"others\" : 3})"
   ]
  },
  {
   "cell_type": "code",
   "execution_count": 61,
   "id": "8dec9ee2",
   "metadata": {},
   "outputs": [
    {
     "data": {
      "text/plain": [
       "meal\n",
       "0    109790\n",
       "1     18395\n",
       "2     10952\n",
       "3      2600\n",
       "Name: count, dtype: int64"
      ]
     },
     "execution_count": 61,
     "metadata": {},
     "output_type": "execute_result"
    }
   ],
   "source": [
    "df['meal'].value_counts()"
   ]
  },
  {
   "cell_type": "code",
   "execution_count": 62,
   "id": "1f1eddd8",
   "metadata": {},
   "outputs": [
    {
     "data": {
      "text/plain": [
       "0"
      ]
     },
     "execution_count": 62,
     "metadata": {},
     "output_type": "execute_result"
    }
   ],
   "source": [
    "df['meal'].isna().sum()"
   ]
  },
  {
   "cell_type": "code",
   "execution_count": 63,
   "id": "96352f0f",
   "metadata": {},
   "outputs": [],
   "source": [
    "Top_countries = ['PRT' , 'GBR' , 'FRA' , 'ESP' , 'DEU']\n",
    "\n",
    "df.loc[:,'country'] = df['country'].apply( lambda x: x if x in Top_countries else 'Others')\n",
    "df.loc[:,'country'] = df['country'].map({'PRT' : 0 , 'GBR' : 1 , 'FRA':2,'ESP':3,'DEU':4,'Others':5})"
   ]
  },
  {
   "cell_type": "code",
   "execution_count": 64,
   "id": "2d2aa5f0",
   "metadata": {},
   "outputs": [],
   "source": [
    "segment = ['Online TA','Offline TA/TO','Groups','Direct','Corporate']\n",
    "\n",
    "df.loc[:,'market_segment'] = df['market_segment'].apply(lambda x:x if x in segment else 'others')\n",
    "df.loc[:,'market_segment'] = df['market_segment'].map({'Online TA':0,'Offline TA/TO':1,'Groups':2,'Direct':3,'Corporate':4,'others':5})"
   ]
  },
  {
   "cell_type": "code",
   "execution_count": 65,
   "id": "aa4d8071",
   "metadata": {},
   "outputs": [],
   "source": [
    "top_categories = ['TA/TO', 'Direct', 'Corporate']\n",
    "\n",
    "df.loc[:, 'distribution_channel'] = df['distribution_channel'].apply(lambda x: x if x in top_categories else 'Others')\n",
    "\n",
    "encoding_map = {\n",
    "    'TA/TO': 0,\n",
    "    'Direct': 1,\n",
    "    'Corporate': 2,\n",
    "    'Others': 3\n",
    "}\n",
    "\n",
    "df.loc[:, 'distribution_channel'] = df['distribution_channel'].map(encoding_map)"
   ]
  },
  {
   "cell_type": "markdown",
   "id": "4a72990d",
   "metadata": {},
   "source": [
    "### Reserved room type and assigned room type have a discrepeancy"
   ]
  },
  {
   "cell_type": "code",
   "execution_count": 66,
   "id": "23fd3c8b",
   "metadata": {},
   "outputs": [
    {
     "data": {
      "text/plain": [
       "reserved_room_type\n",
       "A    103983\n",
       "D     21427\n",
       "E      7513\n",
       "F      3273\n",
       "G      2369\n",
       "B      1363\n",
       "C      1106\n",
       "H       691\n",
       "L        12\n",
       "Name: count, dtype: int64"
      ]
     },
     "execution_count": 66,
     "metadata": {},
     "output_type": "execute_result"
    }
   ],
   "source": [
    "#df['reserved_room_type'].nunique()\n",
    "\n",
    "reserved_room_type_count = df['reserved_room_type'].value_counts()\n",
    "\n",
    "reserved_room_type_count\n",
    "\n"
   ]
  },
  {
   "cell_type": "code",
   "execution_count": 67,
   "id": "3f5c35b9",
   "metadata": {},
   "outputs": [
    {
     "data": {
      "text/plain": [
       "assigned_room_type\n",
       "A    88826\n",
       "D    29412\n",
       "E     9171\n",
       "F     4397\n",
       "G     2951\n",
       "C     2854\n",
       "B     2670\n",
       "H      847\n",
       "I      403\n",
       "K      204\n",
       "L        2\n",
       "Name: count, dtype: int64"
      ]
     },
     "execution_count": 67,
     "metadata": {},
     "output_type": "execute_result"
    }
   ],
   "source": [
    "#df['assigned_room_type'].nunique()\n",
    "\n",
    "assigned_room_type_count = df['assigned_room_type'].value_counts()\n",
    "\n",
    "assigned_room_type_count"
   ]
  },
  {
   "cell_type": "markdown",
   "id": "ea53fa93",
   "metadata": {},
   "source": [
    "### Room Type Encoding\n",
    "\n",
    "In the **Assigned Room Type** column, we observed two extra values: `'I'` and `'K'`. These values are not clearly defined in the dataset. To maintain **data consistency** and handle this ambiguity, we will classify these two values as **'Others'**. This approach will help avoid inconsistencies in the dataset.\n",
    "\n",
    "Additionally, the frequency discrepancy observed in these values is likely due to **room upgrades**. However, since we don't have records for room upgrades, we will assume that these values represent an upgrade and group them accordingly under the `Others` category.\n",
    "\n",
    "This step will ensure we handle all values in a consistent manner.\n"
   ]
  },
  {
   "cell_type": "code",
   "execution_count": 68,
   "id": "910b09dc",
   "metadata": {},
   "outputs": [],
   "source": [
    "df.loc[:, 'assigned_room_type'] = df['assigned_room_type'].apply(\n",
    "    lambda x: x if x in {'A', 'D', 'E', 'F', 'G', 'C', 'B', 'H', 'L'} else 'others'\n",
    ")"
   ]
  },
  {
   "cell_type": "code",
   "execution_count": 69,
   "id": "0c37e4c6",
   "metadata": {
    "scrolled": true
   },
   "outputs": [
    {
     "data": {
      "text/plain": [
       "assigned_room_type\n",
       "A         88826\n",
       "D         29412\n",
       "E          9171\n",
       "F          4397\n",
       "G          2951\n",
       "C          2854\n",
       "B          2670\n",
       "H           847\n",
       "others      607\n",
       "L             2\n",
       "Name: count, dtype: int64"
      ]
     },
     "execution_count": 69,
     "metadata": {},
     "output_type": "execute_result"
    }
   ],
   "source": [
    "#df['assigned_room_type'].nunique()\n",
    "\n",
    "assigned_room_type_transformed = df['assigned_room_type'].value_counts()\n",
    "\n",
    "assigned_room_type_transformed\n"
   ]
  },
  {
   "cell_type": "code",
   "execution_count": 70,
   "id": "3bc3a3d5",
   "metadata": {},
   "outputs": [
    {
     "name": "stdout",
     "output_type": "stream",
     "text": [
      "Null values in 'assigned_room_type': 0\n",
      "Unique values in 'assigned_room_type': ['A' 'D' 'E' 'G' 'F' 'H' 'C' 'B' 'L' 'others']\n"
     ]
    }
   ],
   "source": [
    "# Check for null values\n",
    "print(\"Null values in 'assigned_room_type':\", df['assigned_room_type'].isnull().sum())\n",
    "\n",
    "# Inspect unique values\n",
    "print(\"Unique values in 'assigned_room_type':\", df['assigned_room_type'].unique())"
   ]
  },
  {
   "cell_type": "code",
   "execution_count": 71,
   "id": "c4704d7d",
   "metadata": {},
   "outputs": [],
   "source": [
    "# Define the mapping\n",
    "labelling_assigned = {\n",
    "    'A': 1,\n",
    "    'B': 2,\n",
    "    'C': 3,\n",
    "    'D': 4,\n",
    "    'E': 5,\n",
    "    'F': 6,\n",
    "    'G': 7,\n",
    "    'H': 8,\n",
    "    'others': 9,\n",
    "    'L': 10\n",
    "}\n",
    "\n",
    "labelling_reserved = {\n",
    "    'A': 1,\n",
    "    'B': 2,\n",
    "    'C': 3,\n",
    "    'D': 4,\n",
    "    'E': 5,\n",
    "    'F': 6,\n",
    "    'G': 7,\n",
    "    'H': 8,\n",
    "    'L': 10\n",
    "}\n",
    "\n",
    "# Apply the mapping\n",
    "df.loc[:,'assigned_room_type'] = df['assigned_room_type'].map(labelling_assigned)\n",
    "\n",
    "# Apply the mapping\n",
    "df.loc[:,'reserved_room_type'] = df['reserved_room_type'].map(labelling_reserved)\n"
   ]
  },
  {
   "cell_type": "markdown",
   "id": "115f1ae4",
   "metadata": {},
   "source": [
    "### Adding Room Upgrade Feature\n",
    "\n",
    "We are introducing a new feature called **`room_upgrade`**, which indicates whether a room upgrade has occurred. This feature is based on the comparison between the **reserved room type** and the **assigned room type**.\n",
    "\n",
    "- If the **reserved room type** is different from the **assigned room type**, we will consider it as a **room upgrade** (set to `1`).\n",
    "- If the **reserved room type** is the same as the **assigned room type**, it means no upgrade occurred (set to `0`).\n",
    "\n",
    "This new feature will help us understand and model the potential impact of room upgrades in our data.\n"
   ]
  },
  {
   "cell_type": "code",
   "execution_count": 72,
   "id": "f2122624",
   "metadata": {
    "scrolled": true
   },
   "outputs": [],
   "source": [
    "# Adding 'room_upgrade' feature by comparing 'reserved_room_type' and 'assigned_room_type'\n",
    "df.loc[:, 'room_upgrade'] = (df['reserved_room_type'] != df['assigned_room_type']).astype(int)\n"
   ]
  },
  {
   "cell_type": "markdown",
   "id": "75e6350e",
   "metadata": {},
   "source": [
    "### Deposit type , Customer Type\n"
   ]
  },
  {
   "cell_type": "code",
   "execution_count": 73,
   "id": "df98f7df",
   "metadata": {},
   "outputs": [],
   "source": [
    "deposit = {\n",
    "    'No Deposit' : 0,\n",
    "    'Non Refund' : 1,\n",
    "    'Refundable' : 2\n",
    "}\n",
    "\n",
    "df.loc[:, 'deposit_type'] = df['deposit_type'].map(deposit)"
   ]
  },
  {
   "cell_type": "code",
   "execution_count": 74,
   "id": "daf3597f",
   "metadata": {},
   "outputs": [
    {
     "data": {
      "text/plain": [
       "customer_type\n",
       "Transient          101323\n",
       "Transient-Party     32907\n",
       "Contract             6739\n",
       "Group                 768\n",
       "Name: count, dtype: int64"
      ]
     },
     "execution_count": 74,
     "metadata": {},
     "output_type": "execute_result"
    }
   ],
   "source": [
    "df['customer_type'].value_counts()"
   ]
  },
  {
   "cell_type": "code",
   "execution_count": 75,
   "id": "8ac66cf6",
   "metadata": {},
   "outputs": [],
   "source": [
    "mapping = {\n",
    "    'Transient': 0,\n",
    "    'Transient-Party': 1,\n",
    "    'Contract': 2,\n",
    "    'Group': 3\n",
    "}\n",
    "\n",
    "df.loc[:,'customer_type'] = df['customer_type'].map(mapping)"
   ]
  },
  {
   "cell_type": "markdown",
   "id": "6f0cd6d5",
   "metadata": {},
   "source": [
    "### Feature Selection"
   ]
  },
  {
   "cell_type": "code",
   "execution_count": 76,
   "id": "935a54c4",
   "metadata": {},
   "outputs": [],
   "source": [
    "features = [\n",
    "    'hotel',\n",
    "    'lead_time',\n",
    "    'arrival_date_month',\n",
    "    'total_stay_duration',\n",
    "    'weekend_stay_ratio',\n",
    "    'adults',\n",
    "    'children',\n",
    "    'babies',\n",
    "    'meal',\n",
    "    'country',\n",
    "    'market_segment',\n",
    "    'distribution_channel',\n",
    "    'is_repeated_guest',\n",
    "    'previous_cancellations',\n",
    "    'reserved_room_type',\n",
    "    'assigned_room_type',\n",
    "    'booking_changes',\n",
    "    'deposit_type',\n",
    "    'days_in_waiting_list',\n",
    "    'customer_type',\n",
    "    'adr',\n",
    "    'required_car_parking_spaces',\n",
    "    'total_of_special_requests',\n",
    "    'is_complementary',\n",
    "    'room_upgrade'\n",
    "]\n"
   ]
  },
  {
   "cell_type": "code",
   "execution_count": 77,
   "id": "9a0097ee",
   "metadata": {},
   "outputs": [],
   "source": [
    "X = df[features]\n",
    "y = df['is_canceled']"
   ]
  },
  {
   "cell_type": "code",
   "execution_count": 78,
   "id": "cdbf5e49",
   "metadata": {},
   "outputs": [
    {
     "data": {
      "text/html": [
       "<div>\n",
       "<style scoped>\n",
       "    .dataframe tbody tr th:only-of-type {\n",
       "        vertical-align: middle;\n",
       "    }\n",
       "\n",
       "    .dataframe tbody tr th {\n",
       "        vertical-align: top;\n",
       "    }\n",
       "\n",
       "    .dataframe thead th {\n",
       "        text-align: right;\n",
       "    }\n",
       "</style>\n",
       "<table border=\"1\" class=\"dataframe\">\n",
       "  <thead>\n",
       "    <tr style=\"text-align: right;\">\n",
       "      <th></th>\n",
       "      <th>lead_time</th>\n",
       "      <th>total_stay_duration</th>\n",
       "      <th>weekend_stay_ratio</th>\n",
       "      <th>adults</th>\n",
       "      <th>children</th>\n",
       "      <th>babies</th>\n",
       "      <th>is_repeated_guest</th>\n",
       "      <th>previous_cancellations</th>\n",
       "      <th>booking_changes</th>\n",
       "      <th>days_in_waiting_list</th>\n",
       "      <th>adr</th>\n",
       "      <th>required_car_parking_spaces</th>\n",
       "      <th>total_of_special_requests</th>\n",
       "      <th>room_upgrade</th>\n",
       "    </tr>\n",
       "  </thead>\n",
       "  <tbody>\n",
       "    <tr>\n",
       "      <th>count</th>\n",
       "      <td>141737.000000</td>\n",
       "      <td>141737.000000</td>\n",
       "      <td>141737.000000</td>\n",
       "      <td>141737.000000</td>\n",
       "      <td>141737.000000</td>\n",
       "      <td>141737.000000</td>\n",
       "      <td>141737.000000</td>\n",
       "      <td>141737.000000</td>\n",
       "      <td>141737.000000</td>\n",
       "      <td>141737.000000</td>\n",
       "      <td>141737.000000</td>\n",
       "      <td>141737.000000</td>\n",
       "      <td>141737.000000</td>\n",
       "      <td>141737.000000</td>\n",
       "    </tr>\n",
       "    <tr>\n",
       "      <th>mean</th>\n",
       "      <td>7.565817</td>\n",
       "      <td>3.421640</td>\n",
       "      <td>0.185282</td>\n",
       "      <td>1.849905</td>\n",
       "      <td>0.097540</td>\n",
       "      <td>0.008297</td>\n",
       "      <td>0.030959</td>\n",
       "      <td>0.077009</td>\n",
       "      <td>0.202008</td>\n",
       "      <td>0.003798</td>\n",
       "      <td>9.779984</td>\n",
       "      <td>0.062171</td>\n",
       "      <td>0.549828</td>\n",
       "      <td>0.131673</td>\n",
       "    </tr>\n",
       "    <tr>\n",
       "      <th>std</th>\n",
       "      <td>4.125403</td>\n",
       "      <td>2.547367</td>\n",
       "      <td>0.186705</td>\n",
       "      <td>0.475814</td>\n",
       "      <td>0.388808</td>\n",
       "      <td>0.100594</td>\n",
       "      <td>0.173207</td>\n",
       "      <td>0.266606</td>\n",
       "      <td>0.541669</td>\n",
       "      <td>0.021121</td>\n",
       "      <td>2.176732</td>\n",
       "      <td>0.244285</td>\n",
       "      <td>0.786630</td>\n",
       "      <td>0.338137</td>\n",
       "    </tr>\n",
       "    <tr>\n",
       "      <th>min</th>\n",
       "      <td>0.000000</td>\n",
       "      <td>0.000000</td>\n",
       "      <td>0.000000</td>\n",
       "      <td>0.000000</td>\n",
       "      <td>0.000000</td>\n",
       "      <td>0.000000</td>\n",
       "      <td>0.000000</td>\n",
       "      <td>0.000000</td>\n",
       "      <td>0.000000</td>\n",
       "      <td>0.000000</td>\n",
       "      <td>4.743416</td>\n",
       "      <td>0.000000</td>\n",
       "      <td>0.000000</td>\n",
       "      <td>0.000000</td>\n",
       "    </tr>\n",
       "    <tr>\n",
       "      <th>25%</th>\n",
       "      <td>4.371090</td>\n",
       "      <td>2.000000</td>\n",
       "      <td>0.000000</td>\n",
       "      <td>2.000000</td>\n",
       "      <td>0.000000</td>\n",
       "      <td>0.000000</td>\n",
       "      <td>0.000000</td>\n",
       "      <td>0.000000</td>\n",
       "      <td>0.000000</td>\n",
       "      <td>0.000000</td>\n",
       "      <td>8.215838</td>\n",
       "      <td>0.000000</td>\n",
       "      <td>0.000000</td>\n",
       "      <td>0.000000</td>\n",
       "    </tr>\n",
       "    <tr>\n",
       "      <th>50%</th>\n",
       "      <td>7.891976</td>\n",
       "      <td>3.000000</td>\n",
       "      <td>0.200000</td>\n",
       "      <td>2.000000</td>\n",
       "      <td>0.000000</td>\n",
       "      <td>0.000000</td>\n",
       "      <td>0.000000</td>\n",
       "      <td>0.000000</td>\n",
       "      <td>0.000000</td>\n",
       "      <td>0.000000</td>\n",
       "      <td>9.549869</td>\n",
       "      <td>0.000000</td>\n",
       "      <td>0.000000</td>\n",
       "      <td>0.000000</td>\n",
       "    </tr>\n",
       "    <tr>\n",
       "      <th>75%</th>\n",
       "      <td>10.838426</td>\n",
       "      <td>4.000000</td>\n",
       "      <td>0.333333</td>\n",
       "      <td>2.000000</td>\n",
       "      <td>0.000000</td>\n",
       "      <td>0.000000</td>\n",
       "      <td>0.000000</td>\n",
       "      <td>0.000000</td>\n",
       "      <td>0.000000</td>\n",
       "      <td>0.000000</td>\n",
       "      <td>11.090537</td>\n",
       "      <td>0.000000</td>\n",
       "      <td>1.000000</td>\n",
       "      <td>0.000000</td>\n",
       "    </tr>\n",
       "    <tr>\n",
       "      <th>max</th>\n",
       "      <td>18.239710</td>\n",
       "      <td>69.000000</td>\n",
       "      <td>0.666667</td>\n",
       "      <td>3.000000</td>\n",
       "      <td>10.000000</td>\n",
       "      <td>10.000000</td>\n",
       "      <td>1.000000</td>\n",
       "      <td>1.000000</td>\n",
       "      <td>3.000000</td>\n",
       "      <td>0.121251</td>\n",
       "      <td>15.779734</td>\n",
       "      <td>8.000000</td>\n",
       "      <td>5.000000</td>\n",
       "      <td>1.000000</td>\n",
       "    </tr>\n",
       "  </tbody>\n",
       "</table>\n",
       "</div>"
      ],
      "text/plain": [
       "           lead_time  total_stay_duration  weekend_stay_ratio         adults  \\\n",
       "count  141737.000000        141737.000000       141737.000000  141737.000000   \n",
       "mean        7.565817             3.421640            0.185282       1.849905   \n",
       "std         4.125403             2.547367            0.186705       0.475814   \n",
       "min         0.000000             0.000000            0.000000       0.000000   \n",
       "25%         4.371090             2.000000            0.000000       2.000000   \n",
       "50%         7.891976             3.000000            0.200000       2.000000   \n",
       "75%        10.838426             4.000000            0.333333       2.000000   \n",
       "max        18.239710            69.000000            0.666667       3.000000   \n",
       "\n",
       "            children         babies  is_repeated_guest  \\\n",
       "count  141737.000000  141737.000000      141737.000000   \n",
       "mean        0.097540       0.008297           0.030959   \n",
       "std         0.388808       0.100594           0.173207   \n",
       "min         0.000000       0.000000           0.000000   \n",
       "25%         0.000000       0.000000           0.000000   \n",
       "50%         0.000000       0.000000           0.000000   \n",
       "75%         0.000000       0.000000           0.000000   \n",
       "max        10.000000      10.000000           1.000000   \n",
       "\n",
       "       previous_cancellations  booking_changes  days_in_waiting_list  \\\n",
       "count           141737.000000    141737.000000         141737.000000   \n",
       "mean                 0.077009         0.202008              0.003798   \n",
       "std                  0.266606         0.541669              0.021121   \n",
       "min                  0.000000         0.000000              0.000000   \n",
       "25%                  0.000000         0.000000              0.000000   \n",
       "50%                  0.000000         0.000000              0.000000   \n",
       "75%                  0.000000         0.000000              0.000000   \n",
       "max                  1.000000         3.000000              0.121251   \n",
       "\n",
       "                 adr  required_car_parking_spaces  total_of_special_requests  \\\n",
       "count  141737.000000                141737.000000              141737.000000   \n",
       "mean        9.779984                     0.062171                   0.549828   \n",
       "std         2.176732                     0.244285                   0.786630   \n",
       "min         4.743416                     0.000000                   0.000000   \n",
       "25%         8.215838                     0.000000                   0.000000   \n",
       "50%         9.549869                     0.000000                   0.000000   \n",
       "75%        11.090537                     0.000000                   1.000000   \n",
       "max        15.779734                     8.000000                   5.000000   \n",
       "\n",
       "        room_upgrade  \n",
       "count  141737.000000  \n",
       "mean        0.131673  \n",
       "std         0.338137  \n",
       "min         0.000000  \n",
       "25%         0.000000  \n",
       "50%         0.000000  \n",
       "75%         0.000000  \n",
       "max         1.000000  "
      ]
     },
     "execution_count": 78,
     "metadata": {},
     "output_type": "execute_result"
    }
   ],
   "source": [
    "X.describe()"
   ]
  },
  {
   "cell_type": "code",
   "execution_count": 79,
   "id": "0c553936",
   "metadata": {
    "scrolled": true
   },
   "outputs": [
    {
     "data": {
      "text/html": [
       "<div>\n",
       "<style scoped>\n",
       "    .dataframe tbody tr th:only-of-type {\n",
       "        vertical-align: middle;\n",
       "    }\n",
       "\n",
       "    .dataframe tbody tr th {\n",
       "        vertical-align: top;\n",
       "    }\n",
       "\n",
       "    .dataframe thead th {\n",
       "        text-align: right;\n",
       "    }\n",
       "</style>\n",
       "<table border=\"1\" class=\"dataframe\">\n",
       "  <thead>\n",
       "    <tr style=\"text-align: right;\">\n",
       "      <th></th>\n",
       "      <th>count</th>\n",
       "      <th>unique</th>\n",
       "      <th>top</th>\n",
       "      <th>freq</th>\n",
       "    </tr>\n",
       "  </thead>\n",
       "  <tbody>\n",
       "    <tr>\n",
       "      <th>hotel</th>\n",
       "      <td>141737</td>\n",
       "      <td>2</td>\n",
       "      <td>0</td>\n",
       "      <td>92912</td>\n",
       "    </tr>\n",
       "    <tr>\n",
       "      <th>arrival_date_month</th>\n",
       "      <td>141737</td>\n",
       "      <td>12</td>\n",
       "      <td>8</td>\n",
       "      <td>17750</td>\n",
       "    </tr>\n",
       "    <tr>\n",
       "      <th>meal</th>\n",
       "      <td>141737</td>\n",
       "      <td>4</td>\n",
       "      <td>0</td>\n",
       "      <td>109790</td>\n",
       "    </tr>\n",
       "    <tr>\n",
       "      <th>country</th>\n",
       "      <td>141737</td>\n",
       "      <td>6</td>\n",
       "      <td>0</td>\n",
       "      <td>62874</td>\n",
       "    </tr>\n",
       "    <tr>\n",
       "      <th>market_segment</th>\n",
       "      <td>141737</td>\n",
       "      <td>6</td>\n",
       "      <td>0</td>\n",
       "      <td>62765</td>\n",
       "    </tr>\n",
       "    <tr>\n",
       "      <th>distribution_channel</th>\n",
       "      <td>141737</td>\n",
       "      <td>4</td>\n",
       "      <td>0</td>\n",
       "      <td>115905</td>\n",
       "    </tr>\n",
       "    <tr>\n",
       "      <th>reserved_room_type</th>\n",
       "      <td>141737</td>\n",
       "      <td>9</td>\n",
       "      <td>1</td>\n",
       "      <td>103983</td>\n",
       "    </tr>\n",
       "    <tr>\n",
       "      <th>assigned_room_type</th>\n",
       "      <td>141737</td>\n",
       "      <td>10</td>\n",
       "      <td>1</td>\n",
       "      <td>88826</td>\n",
       "    </tr>\n",
       "    <tr>\n",
       "      <th>deposit_type</th>\n",
       "      <td>141737</td>\n",
       "      <td>3</td>\n",
       "      <td>0</td>\n",
       "      <td>123186</td>\n",
       "    </tr>\n",
       "    <tr>\n",
       "      <th>customer_type</th>\n",
       "      <td>141737</td>\n",
       "      <td>4</td>\n",
       "      <td>0</td>\n",
       "      <td>101323</td>\n",
       "    </tr>\n",
       "  </tbody>\n",
       "</table>\n",
       "</div>"
      ],
      "text/plain": [
       "                       count  unique  top    freq\n",
       "hotel                 141737       2    0   92912\n",
       "arrival_date_month    141737      12    8   17750\n",
       "meal                  141737       4    0  109790\n",
       "country               141737       6    0   62874\n",
       "market_segment        141737       6    0   62765\n",
       "distribution_channel  141737       4    0  115905\n",
       "reserved_room_type    141737       9    1  103983\n",
       "assigned_room_type    141737      10    1   88826\n",
       "deposit_type          141737       3    0  123186\n",
       "customer_type         141737       4    0  101323"
      ]
     },
     "execution_count": 79,
     "metadata": {},
     "output_type": "execute_result"
    }
   ],
   "source": [
    "X.describe(include = object).T"
   ]
  },
  {
   "cell_type": "code",
   "execution_count": 80,
   "id": "8a252d12",
   "metadata": {},
   "outputs": [
    {
     "data": {
      "text/plain": [
       "hotel                          0\n",
       "lead_time                      0\n",
       "arrival_date_month             0\n",
       "total_stay_duration            0\n",
       "weekend_stay_ratio             0\n",
       "adults                         0\n",
       "children                       0\n",
       "babies                         0\n",
       "meal                           0\n",
       "country                        0\n",
       "market_segment                 0\n",
       "distribution_channel           0\n",
       "is_repeated_guest              0\n",
       "previous_cancellations         0\n",
       "reserved_room_type             0\n",
       "assigned_room_type             0\n",
       "booking_changes                0\n",
       "deposit_type                   0\n",
       "days_in_waiting_list           0\n",
       "customer_type                  0\n",
       "adr                            0\n",
       "required_car_parking_spaces    0\n",
       "total_of_special_requests      0\n",
       "is_complementary               0\n",
       "room_upgrade                   0\n",
       "dtype: int64"
      ]
     },
     "execution_count": 80,
     "metadata": {},
     "output_type": "execute_result"
    }
   ],
   "source": [
    "df[features].isna().sum()"
   ]
  },
  {
   "cell_type": "markdown",
   "id": "e76ebc95",
   "metadata": {},
   "source": [
    "### Model Training"
   ]
  },
  {
   "cell_type": "code",
   "execution_count": 81,
   "id": "7bae54b1",
   "metadata": {},
   "outputs": [],
   "source": [
    "from sklearn.model_selection import train_test_split\n",
    "\n",
    "X_train, X_test, y_train, y_test = train_test_split(\n",
    "    X, y, test_size=0.2, stratify=y, random_state=42\n",
    ")"
   ]
  },
  {
   "cell_type": "code",
   "execution_count": 82,
   "id": "b464f5c5",
   "metadata": {},
   "outputs": [
    {
     "data": {
      "text/plain": [
       "RandomForestClassifier(class_weight='balanced', random_state=42)"
      ]
     },
     "execution_count": 82,
     "metadata": {},
     "output_type": "execute_result"
    }
   ],
   "source": [
    "from sklearn.ensemble import RandomForestClassifier\n",
    "\n",
    "model = RandomForestClassifier(class_weight='balanced', random_state=42)\n",
    "model.fit(X_train, y_train)"
   ]
  },
  {
   "cell_type": "code",
   "execution_count": 83,
   "id": "8b5a2d22",
   "metadata": {
    "scrolled": true
   },
   "outputs": [
    {
     "name": "stdout",
     "output_type": "stream",
     "text": [
      "Classification Report:\n",
      "              precision    recall  f1-score   support\n",
      "\n",
      "           0       0.91      0.94      0.93     17785\n",
      "           1       0.90      0.85      0.87     10563\n",
      "\n",
      "    accuracy                           0.91     28348\n",
      "   macro avg       0.91      0.89      0.90     28348\n",
      "weighted avg       0.91      0.91      0.91     28348\n",
      "\n",
      "ROC-AUC Score: 0.9675333622852894\n"
     ]
    }
   ],
   "source": [
    "from sklearn.metrics import classification_report, roc_auc_score\n",
    "\n",
    "# Make predictions on the test set\n",
    "y_pred = model.predict(X_test)\n",
    "\n",
    "# Evaluate performance\n",
    "print(\"Classification Report:\")\n",
    "print(classification_report(y_test, y_pred))\n",
    "\n",
    "# Calculate ROC-AUC score\n",
    "y_pred_proba = model.predict_proba(X_test)[:, 1]  # Probability of class 1\n",
    "print(\"ROC-AUC Score:\", roc_auc_score(y_test, y_pred_proba))"
   ]
  },
  {
   "cell_type": "markdown",
   "id": "5014938e",
   "metadata": {},
   "source": [
    "### Classification Report:\n",
    "\n",
    "The classification report provides several important evaluation metrics that help assess the performance of a model. The key metrics in the report are **Precision**, **Recall**, **F1-Score**, and **Support**.\n",
    "\n",
    "1. **Precision**:  \n",
    "   Precision is the ratio of correctly predicted positive observations to the total predicted positives. It is a measure of how many of the items we predicted as positive are actually positive. For class 0, the precision is 0.91, and for class 1, it is 0.90.\n",
    "\n",
    "2. **Recall**:  \n",
    "   Recall, also known as sensitivity or true positive rate, is the ratio of correctly predicted positive observations to all observations in the actual class. It tells us how many actual positives were correctly identified. For class 0, recall is 0.94, and for class 1, recall is 0.85.\n",
    "\n",
    "3. **F1-Score**:  \n",
    "   The F1-Score is the harmonic mean of Precision and Recall. It is particularly useful when the class distribution is imbalanced. For class 0, the F1-Score is 0.93, and for class 1, it is 0.87.\n",
    "\n",
    "4. **Support**:  \n",
    "   Support is the number of actual occurrences of the class in the dataset. In this case, class 0 has 17,785 samples, and class 1 has 10,563 samples.\n",
    "\n",
    "Additionally, the report provides the following averages:\n",
    "- **Macro Average**: This averages the performance metrics for all classes without considering class imbalance. In this case, the macro average for F1-Score is 0.90, precision is 0.91, and recall is 0.89.\n",
    "- **Weighted Average**: This averages the performance metrics while considering the support for each class. The weighted averages are:\n",
    "  - F1-Score: 0.91\n",
    "  - Precision: 0.91\n",
    "  - Recall: 0.91\n",
    "\n",
    "### ROC-AUC Score:\n",
    "\n",
    "The **ROC-AUC score** is 0.9675, which indicates a high performance of the model in distinguishing between classes. A score close to 1.0 suggests that the model is doing a great job at correctly predicting the positive and negative classes. In this case, the ROC-AUC score of 0.9675 shows that the model has a high ability to differentiate between class 0 and class 1.\n"
   ]
  },
  {
   "cell_type": "code",
   "execution_count": 84,
   "id": "11e5e285",
   "metadata": {},
   "outputs": [
    {
     "data": {
      "image/png": "[encoded data removed]",
      "text/plain": [
       "<Figure size 720x360 with 1 Axes>"
      ]
     },
     "metadata": {
      "needs_background": "light"
     },
     "output_type": "display_data"
    }
   ],
   "source": [
    "import matplotlib.pyplot as plt\n",
    "import numpy as np\n",
    "import pandas as pd\n",
    "\n",
    "\n",
    "feature_importances = model.feature_importances_\n",
    "\n",
    "\n",
    "if isinstance(X_train, pd.DataFrame):\n",
    "    feature_names = X_train.columns\n",
    "else:\n",
    "    feature_names = [f\"Feature {i}\" for i in range(len(feature_importances))] \n",
    "\n",
    "\n",
    "sorted_idx = np.argsort(feature_importances)[::-1]\n",
    "\n",
    "plt.figure(figsize=(10, 5))\n",
    "plt.barh(range(len(feature_importances)), feature_importances[sorted_idx], align=\"center\")\n",
    "plt.yticks(range(len(feature_importances)), np.array(feature_names)[sorted_idx])  \n",
    "plt.xlabel(\"Feature Importance Score\")\n",
    "plt.ylabel(\"Features\")\n",
    "plt.title(\"Feature Importance in RandomForest\")\n",
    "plt.gca().invert_yaxis() \n",
    "plt.show()\n",
    "\n"
   ]
  },
  {
   "cell_type": "code",
   "execution_count": null,
   "id": "d8b9e44d",
   "metadata": {},
   "outputs": [],
   "source": []
  }
 ],
 "metadata": {
  "kernelspec": {
   "display_name": "Python 3 (ipykernel)",
   "language": "python",
   "name": "python3"
  },
  "language_info": {
   "codemirror_mode": {
    "name": "ipython",
    "version": 3
   },
   "file_extension": ".py",
   "mimetype": "text/x-python",
   "name": "python",
   "nbconvert_exporter": "python",
   "pygments_lexer": "ipython3",
   "version": "3.9.12"
  }
 },
 "nbformat": 4,
 "nbformat_minor": 5
}
